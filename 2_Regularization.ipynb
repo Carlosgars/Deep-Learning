{
  "nbformat": 4,
  "nbformat_minor": 0,
  "metadata": {
    "colab": {
      "name": "HW2_CarlosGarciaSancho_CORRECTED.ipynb",
      "provenance": [],
      "collapsed_sections": [],
      "toc_visible": true
    },
    "kernelspec": {
      "display_name": "Python 3",
      "name": "python3"
    }
  },
  "cells": [
    {
      "cell_type": "markdown",
      "metadata": {
        "id": "QUc9frYnVBI_"
      },
      "source": [
        "#**HW 2: Optimize and train Deep Models**\n",
        "\n",
        "In this homework, we will explore how to develop a simple Deep Neural Network for a classification problem. We will explore two common libraries: TensorFlow and Keras.\n",
        "Then we will explore how to face a well known problem that is common to encounter during the training phase: the Overfitting.\n",
        "Finally, we will study how to perform a fair model selection.\n",
        "Hint: Before starting the exercise take a look at how Tensorflow and Keras are designed.  https://keras.io/"
      ]
    },
    {
      "cell_type": "markdown",
      "metadata": {
        "id": "e-Nc7mFSVEiU"
      },
      "source": [
        "##Exercise 2.1: Image Classficiation with Tensorflow and Keras\n",
        "\n",
        "In this first exercise we will develop a 3 layers Neural Network to perfrom classification.\n",
        "\n",
        "Let's start importing the libraries we will need and setting a couple of environmental variables.\n"
      ]
    },
    {
      "cell_type": "code",
      "metadata": {
        "id": "bWn9FzneVqJo"
      },
      "source": [
        "import matplotlib as mpl\n",
        "import matplotlib.pyplot as plt\n",
        "import numpy as np\n",
        "import os\n",
        "import pandas as pd\n",
        "import sklearn\n",
        "import sys\n",
        "import tensorflow as tf\n",
        "from tensorflow import keras  # tf.keras\n",
        "import time\n",
        "\n",
        "import logging\n",
        "logging.disable(logging.WARNING)\n",
        "os.environ[\"TF_CPP_MIN_LOG_LEVEL\"] = \"3\" \n",
        "\n",
        "\n",
        "\n",
        "tf.random.set_seed(42)\n",
        "# os.environ['TF_DETERMINISTIC_OPS']='1'"
      ],
      "execution_count": 2,
      "outputs": []
    },
    {
      "cell_type": "markdown",
      "metadata": {
        "id": "LT2HMYDEXcx0"
      },
      "source": [
        "### Load Data: IMDB dataset\n",
        "\n",
        "In this HW, we use the IMDB dataset that can be easily downloaded using Keras. The dataset contains 50,000 movie reviews from IMDB, labeled by sentiment (positive/negative). Reviews have been preprocessed, and each review is encoded as a sequence of word indexes. For convenience, the words are indexed by the overall frequency in the dataset, so that for example the integer \"3\" encodes the 3rd most frequent word in the data. For testing purposes, we will only consider the first 1,000  most common words.\n",
        "By default, the load_data method returns a breakdown of the dataset into training and test sets. Both these sets contain 25,000 samples. To also have a validation set, we split the test set in half.\n",
        "\n"
      ]
    },
    {
      "cell_type": "code",
      "metadata": {
        "id": "JZv86gBLXj-D",
        "colab": {
          "base_uri": "https://localhost:8080/"
        },
        "outputId": "89fae781-ef5a-4354-a36b-f365c27b1eb3"
      },
      "source": [
        "num_words = 1000\n",
        "(X_train, y_train), (X_test, y_test) = keras.datasets.imdb.load_data(num_words=num_words)\n",
        "(X_valid, X_test) = X_test[:12500], X_test[12500:]\n",
        "(y_valid, y_test) = y_test[:12500], y_test[12500:]"
      ],
      "execution_count": 3,
      "outputs": [
        {
          "output_type": "stream",
          "text": [
            "Downloading data from https://storage.googleapis.com/tensorflow/tf-keras-datasets/imdb.npz\n",
            "17465344/17464789 [==============================] - 0s 0us/step\n"
          ],
          "name": "stdout"
        },
        {
          "output_type": "stream",
          "text": [
            "<string>:6: VisibleDeprecationWarning: Creating an ndarray from ragged nested sequences (which is a list-or-tuple of lists-or-tuples-or ndarrays with different lengths or shapes) is deprecated. If you meant to do this, you must specify 'dtype=object' when creating the ndarray\n",
            "/usr/local/lib/python3.7/dist-packages/tensorflow/python/keras/datasets/imdb.py:155: VisibleDeprecationWarning: Creating an ndarray from ragged nested sequences (which is a list-or-tuple of lists-or-tuples-or ndarrays with different lengths or shapes) is deprecated. If you meant to do this, you must specify 'dtype=object' when creating the ndarray\n",
            "  x_train, y_train = np.array(xs[:idx]), np.array(labels[:idx])\n",
            "/usr/local/lib/python3.7/dist-packages/tensorflow/python/keras/datasets/imdb.py:156: VisibleDeprecationWarning: Creating an ndarray from ragged nested sequences (which is a list-or-tuple of lists-or-tuples-or ndarrays with different lengths or shapes) is deprecated. If you meant to do this, you must specify 'dtype=object' when creating the ndarray\n",
            "  x_test, y_test = np.array(xs[idx:]), np.array(labels[idx:])\n"
          ],
          "name": "stderr"
        }
      ]
    },
    {
      "cell_type": "markdown",
      "metadata": {
        "id": "TEZHVHpuPdQF"
      },
      "source": [
        "In this HW we will consider a Deep Neural Network. The IMDB data consists in reviews, each one composed by a seqeunce of words. In order to encode each review in a single tensor with a fixed number of elements, we will use multi-hot encoding. Multi-hot-encoding our lists means turning them into vectors of 0s and 1s. Concretely, this would mean for instance turning the sequence [3, 5] into a 10,000-dimensional vector that would be all-zeros except for indices 3 and 5, which would be ones. The obtained input representation indicates which words are present (at least one time) in the sentence.\n",
        "\n",
        " "
      ]
    },
    {
      "cell_type": "code",
      "metadata": {
        "id": "hxE9DhiFPP0T"
      },
      "source": [
        "def multi_hot_encoder(dataset, num_word):\n",
        "  dataset_multi_hot=[]\n",
        "  for sequence in dataset:\n",
        "    index, _ = tf.unique(sequence)\n",
        "    dataset_multi_hot.append(tf.reduce_max(tf.one_hot(index-1, num_word, dtype=tf.int32), axis=0))\n",
        "  dataset_multi_hot = tf.stack(dataset_multi_hot)\n",
        "  return dataset_multi_hot\n",
        "\n",
        "X_train = multi_hot_encoder(X_train,num_words)\n",
        "X_test = multi_hot_encoder(X_test,num_words)\n",
        "X_valid = multi_hot_encoder(X_valid,num_words)"
      ],
      "execution_count": 4,
      "outputs": []
    },
    {
      "cell_type": "markdown",
      "metadata": {
        "id": "jGUg8TexZMNf"
      },
      "source": [
        "### Define the model:\n",
        "\n",
        "Let's build a Sequential model (keras.models.Sequential) and add four layers to it by calling its add() method:\n",
        "\n",
        "\n",
        "*   a input layer (tf.keras.Input) that is the first layer in your model. With this layer you should specify the input_shape argument, leaving out the batch size: (num_words,);\n",
        "*  a Dense layer (keras.layers.Dense) with 16 neurons, and the \"relu\" activation function;\n",
        "* another Dense layer with 16 neurons, also with the \"relu\" activation function;\n",
        "* a final Dense layer with 1 output neurons, and with the \"sigmoid\" activation (since we considering a binary classification task)."
      ]
    },
    {
      "cell_type": "code",
      "metadata": {
        "id": "OaoEISyaZL56"
      },
      "source": [
        "model = keras.models.Sequential()\n",
        "model.add(tf.keras.Input(shape=(num_words,)))\n",
        "model.add(keras.layers.Dense(16, activation=\"relu\"))\n",
        "model.add(keras.layers.Dense(16, activation=\"relu\"))\n",
        "model.add(keras.layers.Dense(1, activation=\"sigmoid\"))\n",
        "\n"
      ],
      "execution_count": null,
      "outputs": []
    },
    {
      "cell_type": "markdown",
      "metadata": {
        "id": "fYfxUOQVZljh"
      },
      "source": [
        "Call the model's summary() method to check if the model has been built correctly. Also, try using keras.utils.plot_model() to save an image of your model's architecture."
      ]
    },
    {
      "cell_type": "code",
      "metadata": {
        "id": "IpGkQl5dZoWq",
        "colab": {
          "base_uri": "https://localhost:8080/"
        },
        "outputId": "a4939d35-efd2-4596-82fd-627872f227a6"
      },
      "source": [
        "model.summary()"
      ],
      "execution_count": null,
      "outputs": [
        {
          "output_type": "stream",
          "text": [
            "Model: \"sequential_52\"\n",
            "_________________________________________________________________\n",
            "Layer (type)                 Output Shape              Param #   \n",
            "=================================================================\n",
            "dense_156 (Dense)            (None, 16)                16016     \n",
            "_________________________________________________________________\n",
            "dense_157 (Dense)            (None, 16)                272       \n",
            "_________________________________________________________________\n",
            "dense_158 (Dense)            (None, 1)                 17        \n",
            "=================================================================\n",
            "Total params: 16,305\n",
            "Trainable params: 16,305\n",
            "Non-trainable params: 0\n",
            "_________________________________________________________________\n"
          ],
          "name": "stdout"
        }
      ]
    },
    {
      "cell_type": "code",
      "metadata": {
        "id": "b1NbkrXRZwOA",
        "colab": {
          "base_uri": "https://localhost:8080/",
          "height": 422
        },
        "outputId": "22e780b8-6dbb-48a6-aac1-287e2f33f8c1"
      },
      "source": [
        "keras.utils.plot_model(model, \"my_imdb_model.png\", show_shapes=True)"
      ],
      "execution_count": null,
      "outputs": [
        {
          "output_type": "execute_result",
          "data": {
            "image/png": "[encoded data removed]",
            "text/plain": [
              "<IPython.core.display.Image object>"
            ]
          },
          "metadata": {
            "tags": []
          },
          "execution_count": 51
        }
      ]
    },
    {
      "cell_type": "markdown",
      "metadata": {
        "id": "Mc3xzuA-33WH"
      },
      "source": [
        "As you can see, the first dimension of each layer is not defined (?), indeed this dimension in each layer is variable and depends on the batch size."
      ]
    },
    {
      "cell_type": "markdown",
      "metadata": {
        "id": "6FAjFixuHSA_"
      },
      "source": [
        "Instaed of using *add()* method it is also possibile to define the model using the following syntax"
      ]
    },
    {
      "cell_type": "code",
      "metadata": {
        "id": "yOhr57M9GPHy",
        "colab": {
          "base_uri": "https://localhost:8080/",
          "height": 660
        },
        "outputId": "709f93ff-8b48-4034-8b74-c92ddc1d1204"
      },
      "source": [
        "model = keras.models.Sequential([\n",
        "    tf.keras.Input(shape=(num_words,)),\n",
        "    keras.layers.Dense(16, activation=\"relu\"),\n",
        "    keras.layers.Dense(16, activation=\"relu\"),\n",
        "    keras.layers.Dense(1, activation=\"sigmoid\")\n",
        "])\n",
        "model.summary()\n",
        "keras.utils.plot_model(model, \"my_imdb_model.png\", show_shapes=True)"
      ],
      "execution_count": null,
      "outputs": [
        {
          "output_type": "stream",
          "text": [
            "Model: \"sequential_1\"\n",
            "_________________________________________________________________\n",
            "Layer (type)                 Output Shape              Param #   \n",
            "=================================================================\n",
            "dense_3 (Dense)              (None, 16)                16016     \n",
            "_________________________________________________________________\n",
            "dense_4 (Dense)              (None, 16)                272       \n",
            "_________________________________________________________________\n",
            "dense_5 (Dense)              (None, 1)                 17        \n",
            "=================================================================\n",
            "Total params: 16,305\n",
            "Trainable params: 16,305\n",
            "Non-trainable params: 0\n",
            "_________________________________________________________________\n"
          ],
          "name": "stdout"
        },
        {
          "output_type": "execute_result",
          "data": {
            "image/png": "[encoded data removed]",
            "text/plain": [
              "<IPython.core.display.Image object>"
            ]
          },
          "metadata": {
            "tags": []
          },
          "execution_count": 6
        }
      ]
    },
    {
      "cell_type": "markdown",
      "metadata": {
        "id": "2ySdJmzxaSuz"
      },
      "source": [
        "### Optimize the model:\n",
        "\n",
        "After the model has been created, you must call its compile() method to specify the loss function and the optimizer to use.\n",
        "\n",
        "Since the model performs a binary classification task, we use the bynary cross-entropy as loss. As optimizer we use Adam.\n",
        "\n",
        "Moreover, you can optionally specify a list of additional metrics that should be measured during training. In this case we specify metrics=[\"accuracy\"]."
      ]
    },
    {
      "cell_type": "code",
      "metadata": {
        "id": "x3bbsY3uaeh5"
      },
      "source": [
        "model.compile(loss=\"binary_crossentropy\",\n",
        "              optimizer=keras.optimizers.Adam(learning_rate=1e-4),\n",
        "              metrics=[\"accuracy\"])"
      ],
      "execution_count": null,
      "outputs": []
    },
    {
      "cell_type": "markdown",
      "metadata": {
        "id": "NB9SV0MpaeTg"
      },
      "source": [
        "Now our model is ready to be trained. Call its fit() method, passing to it the input features (X_train) and the target classes (y_train). Set the number of epochs to 20. \n",
        "In order to validate our model we will also pass the validation data by setting validation_data=(X_valid, y_valid). Keras will compute the loss and the additional metrics (the accuracy in this case) on the validation set at the end of each epoch. If the loss on the training set is much lower than the one on the validation set, your model is probably overfitting the training set. Note: the fit() method will return a History object containing training stats."
      ]
    },
    {
      "cell_type": "code",
      "metadata": {
        "id": "5whx-LU3aoKn",
        "colab": {
          "base_uri": "https://localhost:8080/"
        },
        "outputId": "6848242c-0b6d-4a74-c57f-0a29862b404a"
      },
      "source": [
        "history = model.fit(X_train, y_train, epochs=20,\n",
        "                    validation_data=(X_valid, y_valid))"
      ],
      "execution_count": null,
      "outputs": [
        {
          "output_type": "stream",
          "text": [
            "Epoch 1/20\n",
            "782/782 [==============================] - 3s 3ms/step - loss: 0.6226 - accuracy: 0.6698 - val_loss: 0.5086 - val_accuracy: 0.7899\n",
            "Epoch 2/20\n",
            "782/782 [==============================] - 2s 2ms/step - loss: 0.4251 - accuracy: 0.8259 - val_loss: 0.3856 - val_accuracy: 0.8406\n",
            "Epoch 3/20\n",
            "782/782 [==============================] - 2s 3ms/step - loss: 0.3515 - accuracy: 0.8555 - val_loss: 0.3534 - val_accuracy: 0.8515\n",
            "Epoch 4/20\n",
            "782/782 [==============================] - 2s 2ms/step - loss: 0.3258 - accuracy: 0.8657 - val_loss: 0.3407 - val_accuracy: 0.8543\n",
            "Epoch 5/20\n",
            "782/782 [==============================] - 2s 3ms/step - loss: 0.3138 - accuracy: 0.8703 - val_loss: 0.3377 - val_accuracy: 0.8555\n",
            "Epoch 6/20\n",
            "782/782 [==============================] - 2s 2ms/step - loss: 0.3072 - accuracy: 0.8726 - val_loss: 0.3344 - val_accuracy: 0.8565\n",
            "Epoch 7/20\n",
            "782/782 [==============================] - 2s 3ms/step - loss: 0.3027 - accuracy: 0.8751 - val_loss: 0.3344 - val_accuracy: 0.8562\n",
            "Epoch 8/20\n",
            "782/782 [==============================] - 2s 2ms/step - loss: 0.2999 - accuracy: 0.8773 - val_loss: 0.3344 - val_accuracy: 0.8557\n",
            "Epoch 9/20\n",
            "782/782 [==============================] - 2s 2ms/step - loss: 0.2977 - accuracy: 0.8778 - val_loss: 0.3352 - val_accuracy: 0.8549\n",
            "Epoch 10/20\n",
            "782/782 [==============================] - 2s 3ms/step - loss: 0.2958 - accuracy: 0.8784 - val_loss: 0.3355 - val_accuracy: 0.8552\n",
            "Epoch 11/20\n",
            "782/782 [==============================] - 2s 3ms/step - loss: 0.2941 - accuracy: 0.8794 - val_loss: 0.3366 - val_accuracy: 0.8539\n",
            "Epoch 12/20\n",
            "782/782 [==============================] - 2s 2ms/step - loss: 0.2926 - accuracy: 0.8794 - val_loss: 0.3373 - val_accuracy: 0.8549\n",
            "Epoch 13/20\n",
            "782/782 [==============================] - 2s 3ms/step - loss: 0.2909 - accuracy: 0.8812 - val_loss: 0.3393 - val_accuracy: 0.8543\n",
            "Epoch 14/20\n",
            "782/782 [==============================] - 2s 3ms/step - loss: 0.2897 - accuracy: 0.8819 - val_loss: 0.3387 - val_accuracy: 0.8536\n",
            "Epoch 15/20\n",
            "782/782 [==============================] - 2s 2ms/step - loss: 0.2883 - accuracy: 0.8821 - val_loss: 0.3398 - val_accuracy: 0.8538\n",
            "Epoch 16/20\n",
            "782/782 [==============================] - 2s 3ms/step - loss: 0.2864 - accuracy: 0.8834 - val_loss: 0.3405 - val_accuracy: 0.8534\n",
            "Epoch 17/20\n",
            "782/782 [==============================] - 2s 3ms/step - loss: 0.2849 - accuracy: 0.8841 - val_loss: 0.3418 - val_accuracy: 0.8546\n",
            "Epoch 18/20\n",
            "782/782 [==============================] - 2s 2ms/step - loss: 0.2832 - accuracy: 0.8847 - val_loss: 0.3427 - val_accuracy: 0.8542\n",
            "Epoch 19/20\n",
            "782/782 [==============================] - 2s 3ms/step - loss: 0.2817 - accuracy: 0.8859 - val_loss: 0.3433 - val_accuracy: 0.8526\n",
            "Epoch 20/20\n",
            "782/782 [==============================] - 2s 2ms/step - loss: 0.2793 - accuracy: 0.8860 - val_loss: 0.3445 - val_accuracy: 0.8531\n"
          ],
          "name": "stdout"
        }
      ]
    },
    {
      "cell_type": "markdown",
      "metadata": {
        "id": "EPxiw8iCADr-"
      },
      "source": [
        "Let's plot the loss and the accuracy trends on both training and validation sets. We define the \"plot_learning_acc_and_loss\" function because we will reuse it in the next steps."
      ]
    },
    {
      "cell_type": "code",
      "metadata": {
        "id": "h_L0f16OY8Kg"
      },
      "source": [
        "def plot_learning_acc_and_loss(history):\n",
        "    pd.DataFrame(history.history).plot(figsize=(8, 5))\n",
        "    plt.grid(True)\n",
        "    plt.show()"
      ],
      "execution_count": 5,
      "outputs": []
    },
    {
      "cell_type": "code",
      "metadata": {
        "id": "AJg-F7mUa7st",
        "colab": {
          "base_uri": "https://localhost:8080/",
          "height": 320
        },
        "outputId": "0a35d949-aff6-4802-b0a7-cd508af9d1d4"
      },
      "source": [
        "def plot_learning_acc_and_loss(history):\n",
        "    pd.DataFrame(history.history).plot(figsize=(8, 5))\n",
        "    plt.grid(True)\n",
        "    plt.show()\n",
        "plot_learning_acc_and_loss(history)"
      ],
      "execution_count": null,
      "outputs": [
        {
          "output_type": "display_data",
          "data": {
            "image/png": "[encoded data removed]",
            "text/plain": [
              "<Figure size 576x360 with 1 Axes>"
            ]
          },
          "metadata": {
            "tags": [],
            "needs_background": "light"
          }
        }
      ]
    },
    {
      "cell_type": "markdown",
      "metadata": {
        "id": "9O3-sLmxansJ"
      },
      "source": [
        "### [TO COMPLETE] Evaluate the model:\n",
        "\n",
        "Now, our model has been optimized on the training set, and as you can see the performance on the validation set in quite similar (so it does not overfit the training data). Let's now evaluate the performance of our model using the test set."
      ]
    },
    {
      "cell_type": "code",
      "metadata": {
        "id": "q-ZvJEcObdyB",
        "colab": {
          "base_uri": "https://localhost:8080/"
        },
        "outputId": "992600c1-2b00-40da-cc6d-228fcd94255b"
      },
      "source": [
        "model.evaluate(X_test, y_test)"
      ],
      "execution_count": null,
      "outputs": [
        {
          "output_type": "stream",
          "text": [
            "391/391 [==============================] - 0s 1ms/step - loss: 0.3227 - accuracy: 0.8662\n"
          ],
          "name": "stdout"
        },
        {
          "output_type": "execute_result",
          "data": {
            "text/plain": [
              "[0.32265692949295044, 0.8662400245666504]"
            ]
          },
          "metadata": {
            "tags": []
          },
          "execution_count": 56
        }
      ]
    },
    {
      "cell_type": "markdown",
      "metadata": {
        "id": "KTSxlnwrII-n"
      },
      "source": [
        "[TO COMPLETE] Explain why it is important to use test and validation, and why it is important to evaluate the model on the test set instead of the validation set. Finally, explain which is the usefulness of the validation set. Insert the discussion in this cell.\n",
        "\n",
        "The validation set is useful to choose between different model approaches (hyperparameters) when creating and training our model (i.e. numbers of layers, units on each layer, topology of the nn...). Also, validation set is used in every epoch to check the performance of the model while being trained. Then, the test set is useful to check the real performance of the model we trained on new data and how it generalises. \n",
        "\n",
        "The issue with only checking performance on the validation test is that we might choose between different models just by looking at the performance on the validation set. This might cause an overfitting problem and the loss of our model might be higher when working with different data. This is where the test set becomes useful, it checks the unbiased performance."
      ]
    },
    {
      "cell_type": "markdown",
      "metadata": {
        "id": "aeGlzKe864Gq"
      },
      "source": [
        "## [TO COMPLETE] Exercise 2.2: Overfiting\n",
        "\n",
        "A common problem that occurs when you train a deep neural network is overfittig. Overfitting occurs when you achieve a good fit of your model on the training data, while it does not generalize well on new, unseen data. In other words, the model learned patterns specific to the training data, which are irrelevant in other data.\n",
        "As we have seen in the previous exercise, our model does not overfit the training data. In this exercise, we try to modify the training parameters in order to have a model that overfits.\n",
        "Overfitting can have many causes and usually is a combination of some of them, for instance: too many parameters/ layers, too few training samples, wrong learning rate (usualy too high), etc..\n",
        "\n",
        "[TO COMPLETE] In the next cell define a new model (similar to the previuos one) that overfits the training data; then plot the trend of the loss in training and validation set."
      ]
    },
    {
      "cell_type": "code",
      "metadata": {
        "id": "T2B2DFEC8f88",
        "colab": {
          "base_uri": "https://localhost:8080/"
        },
        "outputId": "40ba8089-1841-441a-a7c0-509de3f7b25a"
      },
      "source": [
        "#[TO COMPLETE] modify the previuos model in order to obtain a new mdel that overfit the training data\n",
        "model = keras.models.Sequential([\n",
        "    tf.keras.Input(shape=(num_words,)),\n",
        "    keras.layers.Dense(24, activation=\"relu\"),\n",
        "    keras.layers.Dense(16, activation=\"relu\"),\n",
        "    keras.layers.Dense(1, activation=\"sigmoid\")\n",
        "    ])\n",
        "\n",
        "model.compile(loss=\"binary_crossentropy\",\n",
        "              optimizer=keras.optimizers.Adam(learning_rate=1e-3), #[TO COMPLETE] learning rate\n",
        "              metrics=[\"accuracy\"])\n",
        "\n",
        "history = model.fit(X_train, y_train, epochs=20,#[TO COMPLETE] epochs\n",
        "                    validation_data=(X_valid, y_valid))\n",
        "\n",
        "print(\"Model Evaluation\")\n",
        "model.evaluate(X_test, y_test)"
      ],
      "execution_count": null,
      "outputs": [
        {
          "output_type": "stream",
          "text": [
            "Epoch 1/20\n",
            "782/782 [==============================] - 2s 2ms/step - loss: 0.4501 - accuracy: 0.7918 - val_loss: 0.3561 - val_accuracy: 0.8454\n",
            "Epoch 2/20\n",
            "782/782 [==============================] - 1s 2ms/step - loss: 0.3226 - accuracy: 0.8609 - val_loss: 0.3336 - val_accuracy: 0.8548\n",
            "Epoch 3/20\n",
            "782/782 [==============================] - 2s 2ms/step - loss: 0.2871 - accuracy: 0.8808 - val_loss: 0.3457 - val_accuracy: 0.8514\n",
            "Epoch 4/20\n",
            "782/782 [==============================] - 2s 2ms/step - loss: 0.2636 - accuracy: 0.8902 - val_loss: 0.3565 - val_accuracy: 0.8466\n",
            "Epoch 5/20\n",
            "782/782 [==============================] - 1s 2ms/step - loss: 0.2289 - accuracy: 0.9091 - val_loss: 0.3771 - val_accuracy: 0.8384\n",
            "Epoch 6/20\n",
            "782/782 [==============================] - 1s 2ms/step - loss: 0.1916 - accuracy: 0.9277 - val_loss: 0.3954 - val_accuracy: 0.8396\n",
            "Epoch 7/20\n",
            "782/782 [==============================] - 2s 2ms/step - loss: 0.1566 - accuracy: 0.9426 - val_loss: 0.4425 - val_accuracy: 0.8349\n",
            "Epoch 8/20\n",
            "782/782 [==============================] - 1s 2ms/step - loss: 0.1299 - accuracy: 0.9555 - val_loss: 0.5023 - val_accuracy: 0.8289\n",
            "Epoch 9/20\n",
            "782/782 [==============================] - 2s 2ms/step - loss: 0.0994 - accuracy: 0.9654 - val_loss: 0.5638 - val_accuracy: 0.8289\n",
            "Epoch 10/20\n",
            "782/782 [==============================] - 2s 2ms/step - loss: 0.0728 - accuracy: 0.9762 - val_loss: 0.6728 - val_accuracy: 0.8257\n",
            "Epoch 11/20\n",
            "782/782 [==============================] - 1s 2ms/step - loss: 0.0543 - accuracy: 0.9835 - val_loss: 0.7267 - val_accuracy: 0.8237\n",
            "Epoch 12/20\n",
            "782/782 [==============================] - 2s 2ms/step - loss: 0.0426 - accuracy: 0.9880 - val_loss: 0.8420 - val_accuracy: 0.8238\n",
            "Epoch 13/20\n",
            "782/782 [==============================] - 2s 2ms/step - loss: 0.0360 - accuracy: 0.9890 - val_loss: 0.9411 - val_accuracy: 0.8226\n",
            "Epoch 14/20\n",
            "782/782 [==============================] - 2s 2ms/step - loss: 0.0297 - accuracy: 0.9909 - val_loss: 1.0223 - val_accuracy: 0.8209\n",
            "Epoch 15/20\n",
            "782/782 [==============================] - 2s 2ms/step - loss: 0.0217 - accuracy: 0.9941 - val_loss: 1.1438 - val_accuracy: 0.8218\n",
            "Epoch 16/20\n",
            "782/782 [==============================] - 1s 2ms/step - loss: 0.0186 - accuracy: 0.9955 - val_loss: 1.2028 - val_accuracy: 0.8150\n",
            "Epoch 17/20\n",
            "782/782 [==============================] - 1s 2ms/step - loss: 0.0220 - accuracy: 0.9931 - val_loss: 1.1890 - val_accuracy: 0.8175\n",
            "Epoch 18/20\n",
            "782/782 [==============================] - 2s 2ms/step - loss: 0.0182 - accuracy: 0.9941 - val_loss: 1.2534 - val_accuracy: 0.8144\n",
            "Epoch 19/20\n",
            "782/782 [==============================] - 1s 2ms/step - loss: 0.0143 - accuracy: 0.9966 - val_loss: 1.3267 - val_accuracy: 0.8207\n",
            "Epoch 20/20\n",
            "782/782 [==============================] - 2s 2ms/step - loss: 0.0136 - accuracy: 0.9959 - val_loss: 1.3526 - val_accuracy: 0.8138\n",
            "Model Evaluation\n",
            "391/391 [==============================] - 0s 1ms/step - loss: 1.3265 - accuracy: 0.8194\n"
          ],
          "name": "stdout"
        },
        {
          "output_type": "execute_result",
          "data": {
            "text/plain": [
              "[1.3265388011932373, 0.8193600177764893]"
            ]
          },
          "metadata": {
            "tags": []
          },
          "execution_count": 57
        }
      ]
    },
    {
      "cell_type": "markdown",
      "metadata": {
        "id": "MS0fujEqh_m3"
      },
      "source": [
        "Define the plot_learning_curves function that plots inly the losses (not the accuracy)."
      ]
    },
    {
      "cell_type": "code",
      "metadata": {
        "id": "iLuIP_5zQD5E"
      },
      "source": [
        "def plot_learning_curves(history):\n",
        "    plt.figure(figsize=(8, 5))\n",
        "    plt.plot(history.epoch,history.history['loss'], label='train loss')\n",
        "    plt.plot(history.epoch,history.history['val_loss'], label='valid loss')\n",
        "    plt.legend()\n",
        "    plt.title('loss')\n",
        "    plt.grid(True)\n",
        "    plt.show()"
      ],
      "execution_count": 6,
      "outputs": []
    },
    {
      "cell_type": "code",
      "metadata": {
        "id": "q5EsklC0DZYH",
        "colab": {
          "base_uri": "https://localhost:8080/",
          "height": 336
        },
        "outputId": "9fd0db93-c42b-4c20-c5c1-b9bf00d28486"
      },
      "source": [
        "plot_learning_curves(history)"
      ],
      "execution_count": null,
      "outputs": [
        {
          "output_type": "display_data",
          "data": {
            "image/png": "[encoded data removed]",
            "text/plain": [
              "<Figure size 576x360 with 1 Axes>"
            ]
          },
          "metadata": {
            "tags": [],
            "needs_background": "light"
          }
        }
      ]
    },
    {
      "cell_type": "markdown",
      "metadata": {
        "id": "OW4Kf4fgDfOs"
      },
      "source": [
        "### [TO COMPLETE] L1 norm\n",
        "\n",
        "One possible way to solve the overitting issue is by using regularization methods. The two most common regularization methods in Deep Learning are the L1-norm regularization and the L2-norm regularization. Both These techniques are based on limiting the capacity of models, by adding a parameter norm penalty to the objective function $\\mathcal{J}$:\n",
        "$$\n",
        "\\hat{\\mathcal{J}}(\\theta,\\mathbf{X},\\mathbf{y}) = \\mathcal{J}(\\theta,\\mathbf{X},\\mathbf{y}) + \\alpha \\Omega(\\theta)\n",
        "$$\n",
        "where $\\alpha$ is a hyperparameter that weighs the relative contribution of the norm penalty $\\Omega$.\n",
        "Lets start by considering the L1-norm regularization where the regularization term is defined as:\n",
        "$$\n",
        " \\Omega(\\theta)=||\\mathbf{W}||_1=\\sum_i |\\mathbf{w}|\n",
        "$$\n",
        "Let's find the values for the $\\alpha$ parameters that allow to remove the overfitting effect."
      ]
    },
    {
      "cell_type": "code",
      "metadata": {
        "id": "QzD8520dDgw3",
        "colab": {
          "base_uri": "https://localhost:8080/",
          "height": 1000
        },
        "outputId": "5b3f0070-3df1-4d46-8d21-98456e87f54a"
      },
      "source": [
        "#In Keras is neccesary to add the regularizer by using the attribute kernel_regularizer\n",
        "#to each layer whose weights will be considered in the Omega function.\n",
        "#is it also possibile to consider the bias by using the attribute bias_regularizer \n",
        "#tf.keras.regularizers.l1(alpha) perfroms the L1-norm regularization\n",
        "\n",
        "#[TO COMPLETE] copy the model that you previously defined that overfits the \n",
        "#trainnig data, and add the L1-norm regularization. Use a proper value for the\n",
        "#alpha hyper-parameter, that prevents the model from overfitting. The results  \n",
        "#reached by the model in terms of loss and accuracy (in all data sets) should be\n",
        "#comparable with the ones obtained by the initial model defined in Exercise 2.1 \n",
        "\n",
        "#In general, a layer that exploits L1-norm regularization is defined as follows:\n",
        "\n",
        "#model.add(keras.layers.Dense(units=[TO COMPLETE], activation=[TO COMPLETE], kernel_regularizer=tf.keras.regularizers.l1([TO COMPLETE]))) \n",
        "\n",
        "model = keras.models.Sequential([\n",
        "    tf.keras.Input(shape=(num_words,)),\n",
        "    keras.layers.Dense(24, activation=\"relu\",kernel_regularizer=tf.keras.regularizers.l1(l1=1e-3),bias_regularizer=tf.keras.regularizers.l2(1e-4)),\n",
        "    keras.layers.Dense(16, activation=\"relu\",kernel_regularizer=tf.keras.regularizers.l1(l1=2e-3)),\n",
        "    keras.layers.Dense(1, activation=\"sigmoid\",kernel_regularizer=tf.keras.regularizers.l1(l1=1e-3))\n",
        "    ])\n",
        "#[TO COMPLETE]\n",
        "\n",
        "\n",
        "model.compile(loss=\"binary_crossentropy\",\n",
        "              optimizer=keras.optimizers.Adam(learning_rate=1e-3),#[TO COMPLETE] learning rate\n",
        "              metrics=[\"accuracy\"])\n",
        "\n",
        "history = model.fit(X_train, y_train, epochs=20,#[TO COMPLETE] epochs\n",
        "                    validation_data=(X_valid, y_valid))\n",
        "\n",
        "print(\"Model Evaluation\")\n",
        "model.evaluate(X_test, y_test)\n",
        "plot_learning_curves(history)"
      ],
      "execution_count": null,
      "outputs": [
        {
          "output_type": "stream",
          "text": [
            "Epoch 1/20\n",
            "782/782 [==============================] - 2s 2ms/step - loss: 0.9611 - accuracy: 0.7647 - val_loss: 0.5355 - val_accuracy: 0.8471\n",
            "Epoch 2/20\n",
            "782/782 [==============================] - 2s 2ms/step - loss: 0.5270 - accuracy: 0.8481 - val_loss: 0.4987 - val_accuracy: 0.8482\n",
            "Epoch 3/20\n",
            "782/782 [==============================] - 2s 2ms/step - loss: 0.4810 - accuracy: 0.8584 - val_loss: 0.4821 - val_accuracy: 0.8457\n",
            "Epoch 4/20\n",
            "782/782 [==============================] - 2s 2ms/step - loss: 0.4642 - accuracy: 0.8553 - val_loss: 0.4783 - val_accuracy: 0.8406\n",
            "Epoch 5/20\n",
            "782/782 [==============================] - 2s 2ms/step - loss: 0.4453 - accuracy: 0.8600 - val_loss: 0.4637 - val_accuracy: 0.8409\n",
            "Epoch 6/20\n",
            "782/782 [==============================] - 2s 2ms/step - loss: 0.4325 - accuracy: 0.8599 - val_loss: 0.4387 - val_accuracy: 0.8542\n",
            "Epoch 7/20\n",
            "782/782 [==============================] - 2s 2ms/step - loss: 0.4136 - accuracy: 0.8662 - val_loss: 0.4271 - val_accuracy: 0.8514\n",
            "Epoch 8/20\n",
            "782/782 [==============================] - 2s 2ms/step - loss: 0.4112 - accuracy: 0.8629 - val_loss: 0.4181 - val_accuracy: 0.8518\n",
            "Epoch 9/20\n",
            "782/782 [==============================] - 2s 2ms/step - loss: 0.3950 - accuracy: 0.8668 - val_loss: 0.4141 - val_accuracy: 0.8540\n",
            "Epoch 10/20\n",
            "782/782 [==============================] - 2s 2ms/step - loss: 0.3899 - accuracy: 0.8672 - val_loss: 0.4144 - val_accuracy: 0.8537\n",
            "Epoch 11/20\n",
            "782/782 [==============================] - 2s 2ms/step - loss: 0.3905 - accuracy: 0.8679 - val_loss: 0.4112 - val_accuracy: 0.8517\n",
            "Epoch 12/20\n",
            "782/782 [==============================] - 2s 2ms/step - loss: 0.3787 - accuracy: 0.8745 - val_loss: 0.4133 - val_accuracy: 0.8504\n",
            "Epoch 13/20\n",
            "782/782 [==============================] - 2s 2ms/step - loss: 0.3873 - accuracy: 0.8677 - val_loss: 0.4060 - val_accuracy: 0.8549\n",
            "Epoch 14/20\n",
            "782/782 [==============================] - 2s 2ms/step - loss: 0.3786 - accuracy: 0.8713 - val_loss: 0.4100 - val_accuracy: 0.8486\n",
            "Epoch 15/20\n",
            "782/782 [==============================] - 2s 2ms/step - loss: 0.3833 - accuracy: 0.8685 - val_loss: 0.4020 - val_accuracy: 0.8532\n",
            "Epoch 16/20\n",
            "782/782 [==============================] - 2s 2ms/step - loss: 0.3796 - accuracy: 0.8689 - val_loss: 0.4017 - val_accuracy: 0.8530\n",
            "Epoch 17/20\n",
            "782/782 [==============================] - 2s 2ms/step - loss: 0.3812 - accuracy: 0.8665 - val_loss: 0.4033 - val_accuracy: 0.8547\n",
            "Epoch 18/20\n",
            "782/782 [==============================] - 2s 2ms/step - loss: 0.3796 - accuracy: 0.8677 - val_loss: 0.4023 - val_accuracy: 0.8524\n",
            "Epoch 19/20\n",
            "782/782 [==============================] - 2s 2ms/step - loss: 0.3809 - accuracy: 0.8676 - val_loss: 0.3991 - val_accuracy: 0.8563\n",
            "Epoch 20/20\n",
            "782/782 [==============================] - 2s 2ms/step - loss: 0.3764 - accuracy: 0.8703 - val_loss: 0.4047 - val_accuracy: 0.8501\n",
            "Model Evaluation\n",
            "391/391 [==============================] - 0s 1ms/step - loss: 0.3865 - accuracy: 0.8610\n"
          ],
          "name": "stdout"
        },
        {
          "output_type": "display_data",
          "data": {
            "image/png": "[encoded data removed]",
            "text/plain": [
              "<Figure size 576x360 with 1 Axes>"
            ]
          },
          "metadata": {
            "tags": [],
            "needs_background": "light"
          }
        }
      ]
    },
    {
      "cell_type": "markdown",
      "metadata": {
        "id": "CgnCGYUvDqbC"
      },
      "source": [
        "### [TO COMPLETE] L2-norm\n",
        "\n",
        "L2-norm regularization is also known as weight decay. This strategy drives the weights closer to the origin by adding the regularization term omega which is defined as:\n",
        "$$\n",
        " \\Omega(\\theta)=\\frac{1}{2}||\\mathbf{W}||_2^2\n",
        "$$\n",
        "\n",
        "Let's find the values for the $\\alpha$ parameters that allow removing remove the overfitting effect with L2-norm."
      ]
    },
    {
      "cell_type": "code",
      "metadata": {
        "id": "qqNhu350DtJo",
        "colab": {
          "base_uri": "https://localhost:8080/",
          "height": 1000
        },
        "outputId": "e0636f4a-af2a-417c-b784-45fff0579bdb"
      },
      "source": [
        "#[TO COMPLETE] insert the model that you previously defined that overfit the \n",
        "#trainig data, and add the L2-norm regularization. Use proper values for the\n",
        "#alpha hyper-parameters, that prevents the model from overfitting. The results  \n",
        "#reached by the model in terms of loss and accuracy (in all data sets) should be\n",
        "#comparable with the ones obtained by the initial model defined in Exercise 2.1\n",
        "\n",
        "#In general, a layer that exploits L2-norm regularization is defined as follow:\n",
        "\n",
        "#model.add(keras.layers.Dense(units=[TO COMPLETE], activation=[TO COMPLETE],kernel_regularizer=tf.keras.regularizers.l2([TO COMPLETE]))) \n",
        "\n",
        "model = keras.models.Sequential([\n",
        "    tf.keras.Input(shape=(num_words,)),\n",
        "    keras.layers.Dense(32, activation=\"relu\",kernel_regularizer=tf.keras.regularizers.l2(l2=8e-3)),\n",
        "    keras.layers.Dense(16, activation=\"relu\",kernel_regularizer=tf.keras.regularizers.l2(l2=2e-3)),\n",
        "    keras.layers.Dense(1, activation=\"sigmoid\",kernel_regularizer=tf.keras.regularizers.l2(l2=1e-3))\n",
        "    ])\n",
        "#[TO COMPLETE]\n",
        "\n",
        "model.compile(loss=\"binary_crossentropy\",\n",
        "              optimizer=keras.optimizers.Adam(learning_rate=1e-3),#[TO COMPLETE] learning rate\n",
        "              metrics=[\"accuracy\"])\n",
        "\n",
        "history = model.fit(X_train, y_train, epochs=20,#[TO COMPLETE] epochs\n",
        "                    validation_data=(X_valid, y_valid))\n",
        "\n",
        "print(\"Model Evaluation\")\n",
        "model.evaluate(X_test, y_test)\n",
        "plot_learning_curves(history)"
      ],
      "execution_count": null,
      "outputs": [
        {
          "output_type": "stream",
          "text": [
            "Epoch 1/20\n",
            "782/782 [==============================] - 2s 2ms/step - loss: 0.6718 - accuracy: 0.7831 - val_loss: 0.4389 - val_accuracy: 0.8469\n",
            "Epoch 2/20\n",
            "782/782 [==============================] - 2s 2ms/step - loss: 0.4350 - accuracy: 0.8453 - val_loss: 0.4227 - val_accuracy: 0.8453\n",
            "Epoch 3/20\n",
            "782/782 [==============================] - 2s 2ms/step - loss: 0.4052 - accuracy: 0.8606 - val_loss: 0.4185 - val_accuracy: 0.8445\n",
            "Epoch 4/20\n",
            "782/782 [==============================] - 2s 2ms/step - loss: 0.3996 - accuracy: 0.8555 - val_loss: 0.4185 - val_accuracy: 0.8426\n",
            "Epoch 5/20\n",
            "782/782 [==============================] - 2s 2ms/step - loss: 0.3922 - accuracy: 0.8597 - val_loss: 0.4222 - val_accuracy: 0.8378\n",
            "Epoch 6/20\n",
            "782/782 [==============================] - 2s 2ms/step - loss: 0.3902 - accuracy: 0.8601 - val_loss: 0.4049 - val_accuracy: 0.8482\n",
            "Epoch 7/20\n",
            "782/782 [==============================] - 2s 2ms/step - loss: 0.3807 - accuracy: 0.8624 - val_loss: 0.3987 - val_accuracy: 0.8501\n",
            "Epoch 8/20\n",
            "782/782 [==============================] - 2s 2ms/step - loss: 0.3847 - accuracy: 0.8618 - val_loss: 0.3978 - val_accuracy: 0.8494\n",
            "Epoch 9/20\n",
            "782/782 [==============================] - 2s 2ms/step - loss: 0.3747 - accuracy: 0.8637 - val_loss: 0.3930 - val_accuracy: 0.8523\n",
            "Epoch 10/20\n",
            "782/782 [==============================] - 2s 2ms/step - loss: 0.3696 - accuracy: 0.8660 - val_loss: 0.3922 - val_accuracy: 0.8541\n",
            "Epoch 11/20\n",
            "782/782 [==============================] - 2s 2ms/step - loss: 0.3710 - accuracy: 0.8653 - val_loss: 0.4186 - val_accuracy: 0.8389\n",
            "Epoch 12/20\n",
            "782/782 [==============================] - 2s 2ms/step - loss: 0.3619 - accuracy: 0.8704 - val_loss: 0.3934 - val_accuracy: 0.8526\n",
            "Epoch 13/20\n",
            "782/782 [==============================] - 2s 2ms/step - loss: 0.3688 - accuracy: 0.8673 - val_loss: 0.3983 - val_accuracy: 0.8517\n",
            "Epoch 14/20\n",
            "782/782 [==============================] - 2s 2ms/step - loss: 0.3599 - accuracy: 0.8698 - val_loss: 0.4106 - val_accuracy: 0.8409\n",
            "Epoch 15/20\n",
            "782/782 [==============================] - 2s 2ms/step - loss: 0.3613 - accuracy: 0.8695 - val_loss: 0.3943 - val_accuracy: 0.8496\n",
            "Epoch 16/20\n",
            "782/782 [==============================] - 2s 2ms/step - loss: 0.3601 - accuracy: 0.8686 - val_loss: 0.3942 - val_accuracy: 0.8528\n",
            "Epoch 17/20\n",
            "782/782 [==============================] - 2s 2ms/step - loss: 0.3578 - accuracy: 0.8740 - val_loss: 0.3920 - val_accuracy: 0.8514\n",
            "Epoch 18/20\n",
            "782/782 [==============================] - 2s 2ms/step - loss: 0.3544 - accuracy: 0.8738 - val_loss: 0.4016 - val_accuracy: 0.8494\n",
            "Epoch 19/20\n",
            "782/782 [==============================] - 2s 2ms/step - loss: 0.3573 - accuracy: 0.8726 - val_loss: 0.3887 - val_accuracy: 0.8540\n",
            "Epoch 20/20\n",
            "782/782 [==============================] - 2s 2ms/step - loss: 0.3529 - accuracy: 0.8744 - val_loss: 0.3963 - val_accuracy: 0.8502\n",
            "Model Evaluation\n",
            "391/391 [==============================] - 0s 1ms/step - loss: 0.3798 - accuracy: 0.8615\n"
          ],
          "name": "stdout"
        },
        {
          "output_type": "display_data",
          "data": {
            "image/png": "[encoded data removed]",
            "text/plain": [
              "<Figure size 576x360 with 1 Axes>"
            ]
          },
          "metadata": {
            "tags": [],
            "needs_background": "light"
          }
        }
      ]
    },
    {
      "cell_type": "markdown",
      "metadata": {
        "id": "xvyKPb4DD25G"
      },
      "source": [
        "###[TO COMPLETE] Early stopping\n",
        "\n",
        "Early Stopping is a form of regularization used to avoid overfitting. It is designed to monitor the generalization error of one model and stop training when generalization error begins to degrade. In order to evaluate the generalization error, early stopping requires that a validation dataset is evaluated during training. Then, when the validation error does not improve for a specific number of epochs (patience hyper-parameter), it stops the training phase."
      ]
    },
    {
      "cell_type": "code",
      "metadata": {
        "id": "MqNOOZ11D7cq",
        "colab": {
          "base_uri": "https://localhost:8080/",
          "height": 594
        },
        "outputId": "ca9f233f-2daa-45df-c6bd-4077bc9cd161"
      },
      "source": [
        "#[TO COMPLETE] insert the model that you previously defined that overfit the \n",
        "#trainnig data\n",
        "model = keras.models.Sequential([\n",
        "    tf.keras.Input(shape=(num_words,)),\n",
        "    keras.layers.Dense(32, activation=\"relu\"),\n",
        "    keras.layers.Dense(16, activation=\"relu\"),\n",
        "    keras.layers.Dense(1, activation=\"sigmoid\")\n",
        "    ])\n",
        "\n",
        "\n",
        "model.compile(loss=\"binary_crossentropy\",\n",
        "              optimizer=keras.optimizers.Adam(learning_rate=1e-3),#[TO COMPLETE] learning rate\n",
        "              metrics=[\"accuracy\"])\n",
        "\n",
        "#Let's define a log dir in order to save the checkpoint file\n",
        "logdir = os.path.join(os.curdir, \"my_logs\", \"run_{}\".format(time.time()))\n",
        "\n",
        "#In Keras the Eraly stopping is manage by using the callbacks argument.\n",
        "callbacks = [\n",
        "    keras.callbacks.TensorBoard(logdir),\n",
        "    keras.callbacks.EarlyStopping(patience=4),#[TO COMPLETE] play with patience and find the value that prevents the model from overfitting.\n",
        "\n",
        "\n",
        "    #Saving the checkpoints file allows to load the \"best\" model when the Early \n",
        "    #stopping detect that the generalization error degrade (after 'patience' epochs)\n",
        "    keras.callbacks.ModelCheckpoint(\"my_mnist_model.h5\", save_best_only=True),\n",
        "]\n",
        "\n",
        "history = model.fit(X_train, y_train, epochs=20,#[TO COMPLETE] epochs\n",
        "                    validation_data=(X_valid, y_valid),\n",
        "                    callbacks=callbacks)\n",
        "\n",
        "print(\"Model Evaluation\")\n",
        "#The early stopping stopped training after few epochs without progress, so your\n",
        "#model may already have started to overfit the training set. Since the \n",
        "#ModelCheckpoint callback only saved the best models (on the validation set) the\n",
        "#last saved model is the best on the validation set.\n",
        "model = keras.models.load_model(\"my_mnist_model.h5\")\n",
        "model.evaluate(X_test, y_test)\n",
        "plot_learning_curves(history)"
      ],
      "execution_count": 7,
      "outputs": [
        {
          "output_type": "stream",
          "text": [
            "Epoch 1/20\n",
            "782/782 [==============================] - 3s 3ms/step - loss: 0.3805 - accuracy: 0.8330 - val_loss: 0.3522 - val_accuracy: 0.8447\n",
            "Epoch 2/20\n",
            "782/782 [==============================] - 2s 2ms/step - loss: 0.3149 - accuracy: 0.8656 - val_loss: 0.3372 - val_accuracy: 0.8542\n",
            "Epoch 3/20\n",
            "782/782 [==============================] - 2s 2ms/step - loss: 0.2904 - accuracy: 0.8765 - val_loss: 0.3539 - val_accuracy: 0.8453\n",
            "Epoch 4/20\n",
            "782/782 [==============================] - 2s 2ms/step - loss: 0.2577 - accuracy: 0.8924 - val_loss: 0.3657 - val_accuracy: 0.8408\n",
            "Epoch 5/20\n",
            "782/782 [==============================] - 2s 2ms/step - loss: 0.2117 - accuracy: 0.9166 - val_loss: 0.3920 - val_accuracy: 0.8363\n",
            "Epoch 6/20\n",
            "782/782 [==============================] - 2s 2ms/step - loss: 0.1663 - accuracy: 0.9363 - val_loss: 0.4293 - val_accuracy: 0.8335\n",
            "Model Evaluation\n",
            "391/391 [==============================] - 1s 1ms/step - loss: 0.3216 - accuracy: 0.8634\n"
          ],
          "name": "stdout"
        },
        {
          "output_type": "display_data",
          "data": {
            "image/png": "[encoded data removed]",
            "text/plain": [
              "<Figure size 576x360 with 1 Axes>"
            ]
          },
          "metadata": {
            "tags": [],
            "needs_background": "light"
          }
        }
      ]
    },
    {
      "cell_type": "markdown",
      "metadata": {
        "id": "DCV8pwVzl9GK"
      },
      "source": [
        "## Exercise 2.3: Model Selection\n",
        "\n",
        "Hyperparameters are the parameters of the learning method itself which we have to specify a priori, i.e., before model fitting. In contrast, model parameters are parameters which arise as a result of the fit (the network weights). The aim of model selection is selecting the best hyperparameters for our deep network. Finding the right hyperparameters for a model can be crucial for the model performance on given data. For istance lets consider our model trained by using different values for the learning rate: "
      ]
    },
    {
      "cell_type": "code",
      "metadata": {
        "id": "Fw8Hs-AEmLKh"
      },
      "source": [
        "learning_rates = [1e-4, 1e-2, 1e-1]"
      ],
      "execution_count": null,
      "outputs": []
    },
    {
      "cell_type": "code",
      "metadata": {
        "id": "mym4GOgUmWqD",
        "colab": {
          "base_uri": "https://localhost:8080/"
        },
        "outputId": "1fe5aefe-006f-483d-fde0-b2aea7f28f0f"
      },
      "source": [
        "histories = []\n",
        "for learning_rate in learning_rates:\n",
        "    model = keras.models.Sequential([\n",
        "                                    tf.keras.Input(shape=(num_words,)),\n",
        "                                    keras.layers.Dense(16, activation=\"relu\"),\n",
        "                                    keras.layers.Dense(16, activation=\"relu\"),\n",
        "                                    keras.layers.Dense(1, activation=\"sigmoid\")\n",
        "                                     ])\n",
        "    model.compile(loss=\"binary_crossentropy\",\n",
        "              optimizer=keras.optimizers.Adam(learning_rate=learning_rate),\n",
        "              metrics=[\"accuracy\"])\n",
        "              \n",
        "    callbacks = [keras.callbacks.EarlyStopping(patience=2)]\n",
        "\n",
        "    history = model.fit(X_train, y_train,\n",
        "                        validation_data=(X_valid, y_valid), epochs=10,\n",
        "                        callbacks=callbacks)\n",
        "    histories.append(history)\n",
        "    print(\"evaluation on test set\")\n",
        "    model.evaluate(X_test, y_test)"
      ],
      "execution_count": null,
      "outputs": [
        {
          "output_type": "stream",
          "text": [
            "Epoch 1/10\n",
            "782/782 [==============================] - 2s 2ms/step - loss: 0.6654 - accuracy: 0.5814 - val_loss: 0.4753 - val_accuracy: 0.8074\n",
            "Epoch 2/10\n",
            "782/782 [==============================] - 1s 2ms/step - loss: 0.4283 - accuracy: 0.8266 - val_loss: 0.3704 - val_accuracy: 0.8462\n",
            "Epoch 3/10\n",
            "782/782 [==============================] - 1s 2ms/step - loss: 0.3395 - accuracy: 0.8621 - val_loss: 0.3485 - val_accuracy: 0.8534\n",
            "Epoch 4/10\n",
            "782/782 [==============================] - 1s 2ms/step - loss: 0.3216 - accuracy: 0.8653 - val_loss: 0.3393 - val_accuracy: 0.8567\n",
            "Epoch 5/10\n",
            "782/782 [==============================] - 1s 2ms/step - loss: 0.3102 - accuracy: 0.8740 - val_loss: 0.3378 - val_accuracy: 0.8571\n",
            "Epoch 6/10\n",
            "782/782 [==============================] - 1s 2ms/step - loss: 0.3019 - accuracy: 0.8756 - val_loss: 0.3353 - val_accuracy: 0.8562\n",
            "Epoch 7/10\n",
            "782/782 [==============================] - 1s 2ms/step - loss: 0.2960 - accuracy: 0.8788 - val_loss: 0.3356 - val_accuracy: 0.8562\n",
            "Epoch 8/10\n",
            "782/782 [==============================] - 2s 2ms/step - loss: 0.3010 - accuracy: 0.8765 - val_loss: 0.3360 - val_accuracy: 0.8551\n",
            "evaluation on test set\n",
            "391/391 [==============================] - 0s 960us/step - loss: 0.3170 - accuracy: 0.8656\n",
            "Epoch 1/10\n",
            "782/782 [==============================] - 2s 2ms/step - loss: 0.4113 - accuracy: 0.8135 - val_loss: 0.3384 - val_accuracy: 0.8513\n",
            "Epoch 2/10\n",
            "782/782 [==============================] - 1s 2ms/step - loss: 0.3187 - accuracy: 0.8599 - val_loss: 0.3431 - val_accuracy: 0.8503\n",
            "Epoch 3/10\n",
            "782/782 [==============================] - 1s 2ms/step - loss: 0.2839 - accuracy: 0.8771 - val_loss: 0.3535 - val_accuracy: 0.8486\n",
            "evaluation on test set\n",
            "391/391 [==============================] - 0s 973us/step - loss: 0.3304 - accuracy: 0.8589\n",
            "Epoch 1/10\n",
            "782/782 [==============================] - 2s 2ms/step - loss: 0.7537 - accuracy: 0.5033 - val_loss: 0.6932 - val_accuracy: 0.5053\n",
            "Epoch 2/10\n",
            "782/782 [==============================] - 1s 2ms/step - loss: 0.6951 - accuracy: 0.5027 - val_loss: 0.6931 - val_accuracy: 0.5053\n",
            "Epoch 3/10\n",
            "782/782 [==============================] - 1s 2ms/step - loss: 0.6951 - accuracy: 0.4922 - val_loss: 0.7039 - val_accuracy: 0.4947\n",
            "Epoch 4/10\n",
            "782/782 [==============================] - 1s 2ms/step - loss: 0.6952 - accuracy: 0.5024 - val_loss: 0.6975 - val_accuracy: 0.4947\n",
            "evaluation on test set\n",
            "391/391 [==============================] - 0s 932us/step - loss: 0.6957 - accuracy: 0.5053\n"
          ],
          "name": "stdout"
        }
      ]
    },
    {
      "cell_type": "markdown",
      "metadata": {
        "id": "RzTSjfwptkHJ"
      },
      "source": [
        "Let's plot the results"
      ]
    },
    {
      "cell_type": "code",
      "metadata": {
        "id": "cIlN1vlioIYh",
        "colab": {
          "base_uri": "https://localhost:8080/",
          "height": 981
        },
        "outputId": "feaa7cef-073c-4bbb-987c-7cbac3cac46e"
      },
      "source": [
        "for learning_rate, history in zip(learning_rates, histories):\n",
        "    print(\"Learning rate:\", learning_rate)\n",
        "    plot_learning_acc_and_loss(history)"
      ],
      "execution_count": null,
      "outputs": [
        {
          "output_type": "stream",
          "text": [
            "Learning rate: 0.0001\n"
          ],
          "name": "stdout"
        },
        {
          "output_type": "display_data",
          "data": {
            "image/png": "[encoded data removed]",
            "text/plain": [
              "<Figure size 576x360 with 1 Axes>"
            ]
          },
          "metadata": {
            "tags": [],
            "needs_background": "light"
          }
        },
        {
          "output_type": "stream",
          "text": [
            "Learning rate: 0.01\n"
          ],
          "name": "stdout"
        },
        {
          "output_type": "display_data",
          "data": {
            "image/png": "[encoded data removed]",
            "text/plain": [
              "<Figure size 576x360 with 1 Axes>"
            ]
          },
          "metadata": {
            "tags": [],
            "needs_background": "light"
          }
        },
        {
          "output_type": "stream",
          "text": [
            "Learning rate: 0.1\n"
          ],
          "name": "stdout"
        },
        {
          "output_type": "display_data",
          "data": {
            "image/png": "[encoded data removed]",
            "text/plain": [
              "<Figure size 576x360 with 1 Axes>"
            ]
          },
          "metadata": {
            "tags": [],
            "needs_background": "light"
          }
        }
      ]
    },
    {
      "cell_type": "markdown",
      "metadata": {
        "id": "_JntujSWq3e5"
      },
      "source": [
        "### [TO COMPLETE] GRID Search:\n",
        "\n",
        "Since a deep net has many hyperparameters, in order to find the best ones, we have to consider all the possible combinations of all of the possible values. One common method to perform this complex task is Grid-Search.\n",
        "Given a set of values for each hyper-parameter, Grid-Search will build a model on each parameter combination possible. It iterates through every parameter combination and stores a model for each combination. Finally, the model that obtained the best result on the validation set will be select.\n",
        "\n",
        "In order to perfrom Grid-Search we will use the GridSearchCV method from scikit-learn."
      ]
    },
    {
      "cell_type": "markdown",
      "metadata": {
        "id": "CPz629YSrDhN"
      },
      "source": [
        "Let's Create a build_model() function that takes two arguments, n_neurons, learning_rate, and builds, compiles and returns a model with the given number of of neurons and the given learning rate.\n",
        "In order to limit the time requirements of the process we will consider only these two hyper-paramters.\n",
        "\n",
        "[TO COMPLETE] in the following code cell define the build_model function."
      ]
    },
    {
      "cell_type": "code",
      "metadata": {
        "id": "oGSKWTTtqxZ4"
      },
      "source": [
        "def build_model(n_units=30, learning_rate=1e-3):\n",
        "    # The function has to build a model similar to the ones we used in previuous execises:\n",
        "    #- a input layer \n",
        "    #- one or two Dense layers composed of n_units and that exploit Relu activation function \n",
        "    #- the output layer that uses the sigmoid activation function\n",
        "    # Then, the model has to be compiled.\n",
        "    model = keras.models.Sequential([\n",
        "              tf.keras.Input(shape=(num_words,)),\n",
        "              keras.layers.Dense(n_units, activation=\"relu\"),\n",
        "              keras.layers.Dense(n_units, activation=\"relu\"),\n",
        "              keras.layers.Dense(1, activation=\"sigmoid\")\n",
        "    ])\n",
        "    \n",
        "    # [TO COMPLETE] Then, the model has to be compiled.\n",
        "    model.compile(loss=\"binary_crossentropy\",\n",
        "              optimizer=keras.optimizers.Adam(learning_rate=learning_rate),\n",
        "              metrics=[\"accuracy\"])\n",
        "    \n",
        "    return model\n",
        "\n",
        "    \n",
        "#Create a keras.wrappers.scikit_learn.KerasRegressor and pass the build_model \n",
        "#function to the constructor. This gives you a Scikit-Learn compatible predictor\n",
        "keras_reg = keras.wrappers.scikit_learn.KerasRegressor(build_model)"
      ],
      "execution_count": null,
      "outputs": []
    },
    {
      "cell_type": "markdown",
      "metadata": {
        "id": "PS6W3A2LxDg5"
      },
      "source": [
        "Let's define the lists of hyper-parameters' values. Also in this case, we use a very limited size lists, but in a real-world scenario a reasonable amount of possible values should be considered (try to add some values and check how much the time required to perform the Grid-Search increases)"
      ]
    },
    {
      "cell_type": "code",
      "metadata": {
        "id": "y-uldCW3ru24"
      },
      "source": [
        "param_distribs = {\n",
        "    \"n_units\": [12,16],# [TO COMPLETE] insert a list that contains few (2 or 3) reasonable value\n",
        "    \"learning_rate\": [1e-2,1e-3,1e-4] #[TO COMPLETE] insert a list that contains few (2 or 3) reasonable values\n",
        "    #Check how the time required to perform GRID search increases when increasing the number of values for each hyper-parameter.\n",
        "}"
      ],
      "execution_count": null,
      "outputs": []
    },
    {
      "cell_type": "markdown",
      "metadata": {
        "id": "bEiBxVYtx_sK"
      },
      "source": [
        "Use a sklearn.model_selection.GridSearchCV to search the hyperparameter space of your KerasRegressor"
      ]
    },
    {
      "cell_type": "code",
      "metadata": {
        "id": "iobF2Bvdr9ER"
      },
      "source": [
        "from sklearn.model_selection import GridSearchCV\n",
        "\n",
        "grid_search = GridSearchCV(keras_reg, param_distribs)"
      ],
      "execution_count": null,
      "outputs": []
    },
    {
      "cell_type": "markdown",
      "metadata": {
        "id": "LVGMcZz_yKSX"
      },
      "source": [
        "Run the Grid-Search"
      ]
    },
    {
      "cell_type": "code",
      "metadata": {
        "id": "-BA3vgTjr-hw",
        "colab": {
          "base_uri": "https://localhost:8080/"
        },
        "outputId": "93bebd39-0390-464e-d67a-3d4d4f680f66"
      },
      "source": [
        "\n",
        "grid_search.fit(X_train.numpy(), y_train, epochs=8,#The number of epochs can be modified (check what happens by increasing it)\n",
        "                validation_data=(X_valid.numpy(), y_valid))"
      ],
      "execution_count": null,
      "outputs": [
        {
          "output_type": "stream",
          "text": [
            "Epoch 1/8\n",
            "625/625 [==============================] - 2s 3ms/step - loss: 0.4507 - accuracy: 0.7814 - val_loss: 0.3441 - val_accuracy: 0.8515\n",
            "Epoch 2/8\n",
            "625/625 [==============================] - 1s 2ms/step - loss: 0.3169 - accuracy: 0.8660 - val_loss: 0.3426 - val_accuracy: 0.8485\n",
            "Epoch 3/8\n",
            "625/625 [==============================] - 1s 2ms/step - loss: 0.2961 - accuracy: 0.8751 - val_loss: 0.3485 - val_accuracy: 0.8491\n",
            "Epoch 4/8\n",
            "625/625 [==============================] - 1s 2ms/step - loss: 0.2933 - accuracy: 0.8753 - val_loss: 0.3495 - val_accuracy: 0.8472\n",
            "Epoch 5/8\n",
            "625/625 [==============================] - 1s 2ms/step - loss: 0.2775 - accuracy: 0.8833 - val_loss: 0.3547 - val_accuracy: 0.8478\n",
            "Epoch 6/8\n",
            "625/625 [==============================] - 1s 2ms/step - loss: 0.2793 - accuracy: 0.8821 - val_loss: 0.3572 - val_accuracy: 0.8446\n",
            "Epoch 7/8\n",
            "625/625 [==============================] - 1s 2ms/step - loss: 0.2813 - accuracy: 0.8757 - val_loss: 0.3529 - val_accuracy: 0.8475\n",
            "Epoch 8/8\n",
            "625/625 [==============================] - 1s 2ms/step - loss: 0.2733 - accuracy: 0.8830 - val_loss: 0.3691 - val_accuracy: 0.8455\n",
            "157/157 [==============================] - 0s 999us/step - loss: 0.3625 - accuracy: 0.8520\n",
            "Epoch 1/8\n",
            "625/625 [==============================] - 2s 2ms/step - loss: 0.4830 - accuracy: 0.7747 - val_loss: 0.3532 - val_accuracy: 0.8479\n",
            "Epoch 2/8\n",
            "625/625 [==============================] - 1s 2ms/step - loss: 0.3244 - accuracy: 0.8666 - val_loss: 0.3429 - val_accuracy: 0.8529\n",
            "Epoch 3/8\n",
            "625/625 [==============================] - 1s 2ms/step - loss: 0.3210 - accuracy: 0.8688 - val_loss: 0.3495 - val_accuracy: 0.8484\n",
            "Epoch 4/8\n",
            "625/625 [==============================] - 1s 2ms/step - loss: 0.3165 - accuracy: 0.8685 - val_loss: 0.3497 - val_accuracy: 0.8506\n",
            "Epoch 5/8\n",
            "625/625 [==============================] - 1s 2ms/step - loss: 0.3048 - accuracy: 0.8758 - val_loss: 0.3580 - val_accuracy: 0.8437\n",
            "Epoch 6/8\n",
            "625/625 [==============================] - 1s 2ms/step - loss: 0.3098 - accuracy: 0.8720 - val_loss: 0.3430 - val_accuracy: 0.8513\n",
            "Epoch 7/8\n",
            "625/625 [==============================] - 1s 2ms/step - loss: 0.3129 - accuracy: 0.8701 - val_loss: 0.3447 - val_accuracy: 0.8512\n",
            "Epoch 8/8\n",
            "625/625 [==============================] - 1s 2ms/step - loss: 0.3052 - accuracy: 0.8751 - val_loss: 0.3554 - val_accuracy: 0.8466\n",
            "157/157 [==============================] - 0s 1ms/step - loss: 0.3464 - accuracy: 0.8518\n",
            "Epoch 1/8\n",
            "625/625 [==============================] - 2s 2ms/step - loss: 0.4220 - accuracy: 0.8036 - val_loss: 0.3400 - val_accuracy: 0.8468\n",
            "Epoch 2/8\n",
            "625/625 [==============================] - 1s 2ms/step - loss: 0.3100 - accuracy: 0.8679 - val_loss: 0.3381 - val_accuracy: 0.8523\n",
            "Epoch 3/8\n",
            "625/625 [==============================] - 1s 2ms/step - loss: 0.2926 - accuracy: 0.8734 - val_loss: 0.3438 - val_accuracy: 0.8462\n",
            "Epoch 4/8\n",
            "625/625 [==============================] - 1s 2ms/step - loss: 0.2732 - accuracy: 0.8842 - val_loss: 0.3669 - val_accuracy: 0.8467\n",
            "Epoch 5/8\n",
            "625/625 [==============================] - 1s 2ms/step - loss: 0.2527 - accuracy: 0.8895 - val_loss: 0.3569 - val_accuracy: 0.8448\n",
            "Epoch 6/8\n",
            "625/625 [==============================] - 1s 2ms/step - loss: 0.2302 - accuracy: 0.9031 - val_loss: 0.4027 - val_accuracy: 0.8431\n",
            "Epoch 7/8\n",
            "625/625 [==============================] - 1s 2ms/step - loss: 0.2084 - accuracy: 0.9096 - val_loss: 0.3881 - val_accuracy: 0.8396\n",
            "Epoch 8/8\n",
            "625/625 [==============================] - 1s 2ms/step - loss: 0.1883 - accuracy: 0.9210 - val_loss: 0.4903 - val_accuracy: 0.8277\n",
            "157/157 [==============================] - 0s 947us/step - loss: 0.4842 - accuracy: 0.8324\n",
            "Epoch 1/8\n",
            "625/625 [==============================] - 2s 2ms/step - loss: 0.4195 - accuracy: 0.8046 - val_loss: 0.3447 - val_accuracy: 0.8466\n",
            "Epoch 2/8\n",
            "625/625 [==============================] - 1s 2ms/step - loss: 0.3026 - accuracy: 0.8708 - val_loss: 0.3431 - val_accuracy: 0.8479\n",
            "Epoch 3/8\n",
            "625/625 [==============================] - 1s 2ms/step - loss: 0.2816 - accuracy: 0.8792 - val_loss: 0.3476 - val_accuracy: 0.8458\n",
            "Epoch 4/8\n",
            "625/625 [==============================] - 1s 2ms/step - loss: 0.2663 - accuracy: 0.8876 - val_loss: 0.3680 - val_accuracy: 0.8413\n",
            "Epoch 5/8\n",
            "625/625 [==============================] - 1s 2ms/step - loss: 0.2390 - accuracy: 0.8964 - val_loss: 0.3785 - val_accuracy: 0.8393\n",
            "Epoch 6/8\n",
            "625/625 [==============================] - 1s 2ms/step - loss: 0.2227 - accuracy: 0.9035 - val_loss: 0.4084 - val_accuracy: 0.8373\n",
            "Epoch 7/8\n",
            "625/625 [==============================] - 1s 2ms/step - loss: 0.2027 - accuracy: 0.9126 - val_loss: 0.4502 - val_accuracy: 0.8338\n",
            "Epoch 8/8\n",
            "625/625 [==============================] - 1s 2ms/step - loss: 0.1883 - accuracy: 0.9223 - val_loss: 0.4615 - val_accuracy: 0.8342\n",
            "157/157 [==============================] - 0s 1ms/step - loss: 0.4663 - accuracy: 0.8422\n",
            "Epoch 1/8\n",
            "625/625 [==============================] - 2s 2ms/step - loss: 0.4308 - accuracy: 0.7988 - val_loss: 0.3515 - val_accuracy: 0.8434\n",
            "Epoch 2/8\n",
            "625/625 [==============================] - 1s 2ms/step - loss: 0.3169 - accuracy: 0.8670 - val_loss: 0.3407 - val_accuracy: 0.8468\n",
            "Epoch 3/8\n",
            "625/625 [==============================] - 1s 2ms/step - loss: 0.2921 - accuracy: 0.8719 - val_loss: 0.3637 - val_accuracy: 0.8435\n",
            "Epoch 4/8\n",
            "625/625 [==============================] - 1s 2ms/step - loss: 0.2808 - accuracy: 0.8808 - val_loss: 0.3489 - val_accuracy: 0.8517\n",
            "Epoch 5/8\n",
            "625/625 [==============================] - 1s 2ms/step - loss: 0.2587 - accuracy: 0.8912 - val_loss: 0.3516 - val_accuracy: 0.8479\n",
            "Epoch 6/8\n",
            "625/625 [==============================] - 1s 2ms/step - loss: 0.2480 - accuracy: 0.8924 - val_loss: 0.3649 - val_accuracy: 0.8428\n",
            "Epoch 7/8\n",
            "625/625 [==============================] - 1s 2ms/step - loss: 0.2338 - accuracy: 0.9011 - val_loss: 0.4137 - val_accuracy: 0.8322\n",
            "Epoch 8/8\n",
            "625/625 [==============================] - 1s 2ms/step - loss: 0.2207 - accuracy: 0.9062 - val_loss: 0.4190 - val_accuracy: 0.8386\n",
            "157/157 [==============================] - 0s 962us/step - loss: 0.4053 - accuracy: 0.8456\n",
            "Epoch 1/8\n",
            "625/625 [==============================] - 2s 2ms/step - loss: 0.4309 - accuracy: 0.7931 - val_loss: 0.3359 - val_accuracy: 0.8532\n",
            "Epoch 2/8\n",
            "625/625 [==============================] - 1s 2ms/step - loss: 0.3079 - accuracy: 0.8694 - val_loss: 0.3441 - val_accuracy: 0.8513\n",
            "Epoch 3/8\n",
            "625/625 [==============================] - 1s 2ms/step - loss: 0.2889 - accuracy: 0.8752 - val_loss: 0.3455 - val_accuracy: 0.8496\n",
            "Epoch 4/8\n",
            "625/625 [==============================] - 1s 2ms/step - loss: 0.2765 - accuracy: 0.8806 - val_loss: 0.3548 - val_accuracy: 0.8486\n",
            "Epoch 5/8\n",
            "625/625 [==============================] - 1s 2ms/step - loss: 0.2544 - accuracy: 0.8868 - val_loss: 0.3676 - val_accuracy: 0.8433\n",
            "Epoch 6/8\n",
            "625/625 [==============================] - 1s 2ms/step - loss: 0.2463 - accuracy: 0.8920 - val_loss: 0.3711 - val_accuracy: 0.8456\n",
            "Epoch 7/8\n",
            "625/625 [==============================] - 1s 2ms/step - loss: 0.2385 - accuracy: 0.8962 - val_loss: 0.3805 - val_accuracy: 0.8430\n",
            "Epoch 8/8\n",
            "625/625 [==============================] - 1s 2ms/step - loss: 0.2204 - accuracy: 0.9041 - val_loss: 0.4241 - val_accuracy: 0.8389\n",
            "157/157 [==============================] - 0s 927us/step - loss: 0.4167 - accuracy: 0.8452\n",
            "Epoch 1/8\n",
            "625/625 [==============================] - 2s 2ms/step - loss: 0.4330 - accuracy: 0.7966 - val_loss: 0.3352 - val_accuracy: 0.8532\n",
            "Epoch 2/8\n",
            "625/625 [==============================] - 1s 2ms/step - loss: 0.3077 - accuracy: 0.8695 - val_loss: 0.3398 - val_accuracy: 0.8526\n",
            "Epoch 3/8\n",
            "625/625 [==============================] - 1s 2ms/step - loss: 0.2923 - accuracy: 0.8758 - val_loss: 0.3661 - val_accuracy: 0.8440\n",
            "Epoch 4/8\n",
            "625/625 [==============================] - 1s 2ms/step - loss: 0.2765 - accuracy: 0.8825 - val_loss: 0.3532 - val_accuracy: 0.8439\n",
            "Epoch 5/8\n",
            "625/625 [==============================] - 1s 2ms/step - loss: 0.2580 - accuracy: 0.8947 - val_loss: 0.3544 - val_accuracy: 0.8451\n",
            "Epoch 6/8\n",
            "625/625 [==============================] - 1s 2ms/step - loss: 0.2471 - accuracy: 0.8984 - val_loss: 0.3819 - val_accuracy: 0.8410\n",
            "Epoch 7/8\n",
            "625/625 [==============================] - 1s 2ms/step - loss: 0.2456 - accuracy: 0.8997 - val_loss: 0.3764 - val_accuracy: 0.8431\n",
            "Epoch 8/8\n",
            "625/625 [==============================] - 1s 2ms/step - loss: 0.2259 - accuracy: 0.9081 - val_loss: 0.4013 - val_accuracy: 0.8394\n",
            "157/157 [==============================] - 0s 995us/step - loss: 0.4001 - accuracy: 0.8402\n",
            "Epoch 1/8\n",
            "625/625 [==============================] - 2s 2ms/step - loss: 0.4188 - accuracy: 0.8099 - val_loss: 0.3491 - val_accuracy: 0.8420\n",
            "Epoch 2/8\n",
            "625/625 [==============================] - 1s 2ms/step - loss: 0.3063 - accuracy: 0.8689 - val_loss: 0.3396 - val_accuracy: 0.8496\n",
            "Epoch 3/8\n",
            "625/625 [==============================] - 1s 2ms/step - loss: 0.2789 - accuracy: 0.8776 - val_loss: 0.3575 - val_accuracy: 0.8445\n",
            "Epoch 4/8\n",
            "625/625 [==============================] - 1s 2ms/step - loss: 0.2545 - accuracy: 0.8922 - val_loss: 0.3812 - val_accuracy: 0.8438\n",
            "Epoch 5/8\n",
            "625/625 [==============================] - 1s 2ms/step - loss: 0.2242 - accuracy: 0.9065 - val_loss: 0.3645 - val_accuracy: 0.8438\n",
            "Epoch 6/8\n",
            "625/625 [==============================] - 1s 2ms/step - loss: 0.2049 - accuracy: 0.9158 - val_loss: 0.4506 - val_accuracy: 0.8350\n",
            "Epoch 7/8\n",
            "625/625 [==============================] - 1s 2ms/step - loss: 0.1754 - accuracy: 0.9270 - val_loss: 0.4733 - val_accuracy: 0.8346\n",
            "Epoch 8/8\n",
            "625/625 [==============================] - 1s 2ms/step - loss: 0.1561 - accuracy: 0.9365 - val_loss: 0.4610 - val_accuracy: 0.8275\n",
            "157/157 [==============================] - 0s 937us/step - loss: 0.4475 - accuracy: 0.8306\n",
            "Epoch 1/8\n",
            "625/625 [==============================] - 2s 2ms/step - loss: 0.4501 - accuracy: 0.7871 - val_loss: 0.3654 - val_accuracy: 0.8374\n",
            "Epoch 2/8\n",
            "625/625 [==============================] - 1s 2ms/step - loss: 0.3161 - accuracy: 0.8629 - val_loss: 0.3408 - val_accuracy: 0.8478\n",
            "Epoch 3/8\n",
            "625/625 [==============================] - 1s 2ms/step - loss: 0.2881 - accuracy: 0.8732 - val_loss: 0.3465 - val_accuracy: 0.8506\n",
            "Epoch 4/8\n",
            "625/625 [==============================] - 1s 2ms/step - loss: 0.2728 - accuracy: 0.8837 - val_loss: 0.3579 - val_accuracy: 0.8483\n",
            "Epoch 5/8\n",
            "625/625 [==============================] - 1s 2ms/step - loss: 0.2572 - accuracy: 0.8877 - val_loss: 0.3673 - val_accuracy: 0.8417\n",
            "Epoch 6/8\n",
            "625/625 [==============================] - 1s 2ms/step - loss: 0.2381 - accuracy: 0.9038 - val_loss: 0.3841 - val_accuracy: 0.8378\n",
            "Epoch 7/8\n",
            "625/625 [==============================] - 1s 2ms/step - loss: 0.2252 - accuracy: 0.9064 - val_loss: 0.3951 - val_accuracy: 0.8397\n",
            "Epoch 8/8\n",
            "625/625 [==============================] - 1s 2ms/step - loss: 0.2141 - accuracy: 0.9128 - val_loss: 0.4541 - val_accuracy: 0.8387\n",
            "157/157 [==============================] - 0s 1ms/step - loss: 0.4371 - accuracy: 0.8440\n",
            "Epoch 1/8\n",
            "625/625 [==============================] - 2s 2ms/step - loss: 0.4220 - accuracy: 0.8038 - val_loss: 0.3565 - val_accuracy: 0.8325\n",
            "Epoch 2/8\n",
            "625/625 [==============================] - 1s 2ms/step - loss: 0.3154 - accuracy: 0.8629 - val_loss: 0.3371 - val_accuracy: 0.8521\n",
            "Epoch 3/8\n",
            "625/625 [==============================] - 1s 2ms/step - loss: 0.2883 - accuracy: 0.8728 - val_loss: 0.3584 - val_accuracy: 0.8481\n",
            "Epoch 4/8\n",
            "625/625 [==============================] - 1s 2ms/step - loss: 0.2678 - accuracy: 0.8858 - val_loss: 0.3601 - val_accuracy: 0.8486\n",
            "Epoch 5/8\n",
            "625/625 [==============================] - 1s 2ms/step - loss: 0.2404 - accuracy: 0.8993 - val_loss: 0.3714 - val_accuracy: 0.8419\n",
            "Epoch 6/8\n",
            "625/625 [==============================] - 1s 2ms/step - loss: 0.2230 - accuracy: 0.9055 - val_loss: 0.4016 - val_accuracy: 0.8419\n",
            "Epoch 7/8\n",
            "625/625 [==============================] - 1s 2ms/step - loss: 0.2053 - accuracy: 0.9145 - val_loss: 0.4122 - val_accuracy: 0.8382\n",
            "Epoch 8/8\n",
            "625/625 [==============================] - 1s 2ms/step - loss: 0.1922 - accuracy: 0.9189 - val_loss: 0.4921 - val_accuracy: 0.8336\n",
            "157/157 [==============================] - 0s 1ms/step - loss: 0.4784 - accuracy: 0.8408\n",
            "Epoch 1/8\n",
            "625/625 [==============================] - 2s 2ms/step - loss: 0.4967 - accuracy: 0.7570 - val_loss: 0.3422 - val_accuracy: 0.8519\n",
            "Epoch 2/8\n",
            "625/625 [==============================] - 1s 2ms/step - loss: 0.3097 - accuracy: 0.8707 - val_loss: 0.3415 - val_accuracy: 0.8522\n",
            "Epoch 3/8\n",
            "625/625 [==============================] - 1s 2ms/step - loss: 0.3004 - accuracy: 0.8732 - val_loss: 0.3478 - val_accuracy: 0.8494\n",
            "Epoch 4/8\n",
            "625/625 [==============================] - 1s 2ms/step - loss: 0.2937 - accuracy: 0.8773 - val_loss: 0.3425 - val_accuracy: 0.8510\n",
            "Epoch 5/8\n",
            "625/625 [==============================] - 1s 2ms/step - loss: 0.2712 - accuracy: 0.8878 - val_loss: 0.3542 - val_accuracy: 0.8446\n",
            "Epoch 6/8\n",
            "625/625 [==============================] - 1s 2ms/step - loss: 0.2621 - accuracy: 0.8921 - val_loss: 0.3651 - val_accuracy: 0.8424\n",
            "Epoch 7/8\n",
            "625/625 [==============================] - 1s 2ms/step - loss: 0.2493 - accuracy: 0.8965 - val_loss: 0.3655 - val_accuracy: 0.8419\n",
            "Epoch 8/8\n",
            "625/625 [==============================] - 1s 2ms/step - loss: 0.2241 - accuracy: 0.9074 - val_loss: 0.3882 - val_accuracy: 0.8430\n",
            "157/157 [==============================] - 0s 908us/step - loss: 0.3795 - accuracy: 0.8484\n",
            "Epoch 1/8\n",
            "625/625 [==============================] - 2s 2ms/step - loss: 0.5000 - accuracy: 0.7531 - val_loss: 0.3374 - val_accuracy: 0.8563\n",
            "Epoch 2/8\n",
            "625/625 [==============================] - 1s 2ms/step - loss: 0.3113 - accuracy: 0.8737 - val_loss: 0.3366 - val_accuracy: 0.8537\n",
            "Epoch 3/8\n",
            "625/625 [==============================] - 1s 2ms/step - loss: 0.3031 - accuracy: 0.8774 - val_loss: 0.3480 - val_accuracy: 0.8463\n",
            "Epoch 4/8\n",
            "625/625 [==============================] - 1s 2ms/step - loss: 0.2890 - accuracy: 0.8803 - val_loss: 0.3359 - val_accuracy: 0.8524\n",
            "Epoch 5/8\n",
            "625/625 [==============================] - 1s 2ms/step - loss: 0.2606 - accuracy: 0.8936 - val_loss: 0.3410 - val_accuracy: 0.8495\n",
            "Epoch 6/8\n",
            "625/625 [==============================] - 1s 2ms/step - loss: 0.2494 - accuracy: 0.8994 - val_loss: 0.3519 - val_accuracy: 0.8516\n",
            "Epoch 7/8\n",
            "625/625 [==============================] - 1s 2ms/step - loss: 0.2388 - accuracy: 0.9016 - val_loss: 0.3785 - val_accuracy: 0.8422\n",
            "Epoch 8/8\n",
            "625/625 [==============================] - 1s 2ms/step - loss: 0.2141 - accuracy: 0.9150 - val_loss: 0.3863 - val_accuracy: 0.8451\n",
            "157/157 [==============================] - 0s 1ms/step - loss: 0.3766 - accuracy: 0.8446\n",
            "Epoch 1/8\n",
            "625/625 [==============================] - 2s 2ms/step - loss: 0.4985 - accuracy: 0.7521 - val_loss: 0.3395 - val_accuracy: 0.8502\n",
            "Epoch 2/8\n",
            "625/625 [==============================] - 1s 2ms/step - loss: 0.3098 - accuracy: 0.8716 - val_loss: 0.3361 - val_accuracy: 0.8562\n",
            "Epoch 3/8\n",
            "625/625 [==============================] - 1s 2ms/step - loss: 0.2982 - accuracy: 0.8757 - val_loss: 0.3493 - val_accuracy: 0.8491\n",
            "Epoch 4/8\n",
            "625/625 [==============================] - 1s 2ms/step - loss: 0.2852 - accuracy: 0.8830 - val_loss: 0.3398 - val_accuracy: 0.8514\n",
            "Epoch 5/8\n",
            "625/625 [==============================] - 1s 2ms/step - loss: 0.2594 - accuracy: 0.8922 - val_loss: 0.3502 - val_accuracy: 0.8490\n",
            "Epoch 6/8\n",
            "625/625 [==============================] - 1s 2ms/step - loss: 0.2402 - accuracy: 0.9030 - val_loss: 0.3605 - val_accuracy: 0.8470\n",
            "Epoch 7/8\n",
            "625/625 [==============================] - 1s 2ms/step - loss: 0.2188 - accuracy: 0.9113 - val_loss: 0.3717 - val_accuracy: 0.8426\n",
            "Epoch 8/8\n",
            "625/625 [==============================] - 1s 2ms/step - loss: 0.1986 - accuracy: 0.9208 - val_loss: 0.3956 - val_accuracy: 0.8384\n",
            "157/157 [==============================] - 0s 951us/step - loss: 0.4004 - accuracy: 0.8418\n",
            "Epoch 1/8\n",
            "625/625 [==============================] - 2s 2ms/step - loss: 0.5057 - accuracy: 0.7498 - val_loss: 0.3440 - val_accuracy: 0.8540\n",
            "Epoch 2/8\n",
            "625/625 [==============================] - 1s 2ms/step - loss: 0.3098 - accuracy: 0.8735 - val_loss: 0.3364 - val_accuracy: 0.8544\n",
            "Epoch 3/8\n",
            "625/625 [==============================] - 1s 2ms/step - loss: 0.2991 - accuracy: 0.8742 - val_loss: 0.3395 - val_accuracy: 0.8497\n",
            "Epoch 4/8\n",
            "625/625 [==============================] - 1s 2ms/step - loss: 0.2877 - accuracy: 0.8816 - val_loss: 0.3374 - val_accuracy: 0.8508\n",
            "Epoch 5/8\n",
            "625/625 [==============================] - 1s 2ms/step - loss: 0.2613 - accuracy: 0.8906 - val_loss: 0.3457 - val_accuracy: 0.8478\n",
            "Epoch 6/8\n",
            "625/625 [==============================] - 1s 2ms/step - loss: 0.2474 - accuracy: 0.8948 - val_loss: 0.3546 - val_accuracy: 0.8487\n",
            "Epoch 7/8\n",
            "625/625 [==============================] - 1s 2ms/step - loss: 0.2275 - accuracy: 0.9093 - val_loss: 0.3679 - val_accuracy: 0.8457\n",
            "Epoch 8/8\n",
            "625/625 [==============================] - 1s 2ms/step - loss: 0.2094 - accuracy: 0.9147 - val_loss: 0.3917 - val_accuracy: 0.8466\n",
            "157/157 [==============================] - 0s 1ms/step - loss: 0.3880 - accuracy: 0.8500\n",
            "Epoch 1/8\n",
            "625/625 [==============================] - 2s 2ms/step - loss: 0.5034 - accuracy: 0.7411 - val_loss: 0.3502 - val_accuracy: 0.8490\n",
            "Epoch 2/8\n",
            "625/625 [==============================] - 1s 2ms/step - loss: 0.3190 - accuracy: 0.8670 - val_loss: 0.3394 - val_accuracy: 0.8505\n",
            "Epoch 3/8\n",
            "625/625 [==============================] - 1s 2ms/step - loss: 0.2992 - accuracy: 0.8710 - val_loss: 0.3432 - val_accuracy: 0.8504\n",
            "Epoch 4/8\n",
            "625/625 [==============================] - 1s 2ms/step - loss: 0.2891 - accuracy: 0.8781 - val_loss: 0.3372 - val_accuracy: 0.8543\n",
            "Epoch 5/8\n",
            "625/625 [==============================] - 1s 2ms/step - loss: 0.2707 - accuracy: 0.8852 - val_loss: 0.3409 - val_accuracy: 0.8511\n",
            "Epoch 6/8\n",
            "625/625 [==============================] - 1s 2ms/step - loss: 0.2582 - accuracy: 0.8871 - val_loss: 0.3474 - val_accuracy: 0.8524\n",
            "Epoch 7/8\n",
            "625/625 [==============================] - 1s 2ms/step - loss: 0.2477 - accuracy: 0.8949 - val_loss: 0.3558 - val_accuracy: 0.8511\n",
            "Epoch 8/8\n",
            "625/625 [==============================] - 1s 2ms/step - loss: 0.2335 - accuracy: 0.9011 - val_loss: 0.3615 - val_accuracy: 0.8503\n",
            "157/157 [==============================] - 0s 1ms/step - loss: 0.3500 - accuracy: 0.8572\n",
            "Epoch 1/8\n",
            "625/625 [==============================] - 2s 2ms/step - loss: 0.4889 - accuracy: 0.7531 - val_loss: 0.3403 - val_accuracy: 0.8530\n",
            "Epoch 2/8\n",
            "625/625 [==============================] - 1s 2ms/step - loss: 0.3103 - accuracy: 0.8711 - val_loss: 0.3406 - val_accuracy: 0.8501\n",
            "Epoch 3/8\n",
            "625/625 [==============================] - 1s 2ms/step - loss: 0.2974 - accuracy: 0.8747 - val_loss: 0.3503 - val_accuracy: 0.8470\n",
            "Epoch 4/8\n",
            "625/625 [==============================] - 1s 2ms/step - loss: 0.2826 - accuracy: 0.8801 - val_loss: 0.3422 - val_accuracy: 0.8521\n",
            "Epoch 5/8\n",
            "625/625 [==============================] - 1s 2ms/step - loss: 0.2523 - accuracy: 0.8924 - val_loss: 0.3706 - val_accuracy: 0.8430\n",
            "Epoch 6/8\n",
            "625/625 [==============================] - 1s 2ms/step - loss: 0.2365 - accuracy: 0.9034 - val_loss: 0.3639 - val_accuracy: 0.8463\n",
            "Epoch 7/8\n",
            "625/625 [==============================] - 1s 2ms/step - loss: 0.2136 - accuracy: 0.9118 - val_loss: 0.3727 - val_accuracy: 0.8434\n",
            "Epoch 8/8\n",
            "625/625 [==============================] - 1s 2ms/step - loss: 0.1922 - accuracy: 0.9231 - val_loss: 0.4149 - val_accuracy: 0.8454\n",
            "157/157 [==============================] - 0s 1ms/step - loss: 0.4062 - accuracy: 0.8482\n",
            "Epoch 1/8\n",
            "625/625 [==============================] - 2s 2ms/step - loss: 0.4921 - accuracy: 0.7523 - val_loss: 0.3386 - val_accuracy: 0.8553\n",
            "Epoch 2/8\n",
            "625/625 [==============================] - 1s 2ms/step - loss: 0.3114 - accuracy: 0.8733 - val_loss: 0.3365 - val_accuracy: 0.8535\n",
            "Epoch 3/8\n",
            "625/625 [==============================] - 1s 2ms/step - loss: 0.3032 - accuracy: 0.8744 - val_loss: 0.3432 - val_accuracy: 0.8486\n",
            "Epoch 4/8\n",
            "625/625 [==============================] - 1s 2ms/step - loss: 0.2859 - accuracy: 0.8797 - val_loss: 0.3363 - val_accuracy: 0.8500\n",
            "Epoch 5/8\n",
            "625/625 [==============================] - 1s 2ms/step - loss: 0.2542 - accuracy: 0.8941 - val_loss: 0.3509 - val_accuracy: 0.8462\n",
            "Epoch 6/8\n",
            "625/625 [==============================] - 1s 2ms/step - loss: 0.2346 - accuracy: 0.9050 - val_loss: 0.3688 - val_accuracy: 0.8437\n",
            "Epoch 7/8\n",
            "625/625 [==============================] - 1s 2ms/step - loss: 0.2135 - accuracy: 0.9148 - val_loss: 0.3916 - val_accuracy: 0.8388\n",
            "Epoch 8/8\n",
            "625/625 [==============================] - 1s 2ms/step - loss: 0.1812 - accuracy: 0.9271 - val_loss: 0.4223 - val_accuracy: 0.8394\n",
            "157/157 [==============================] - 0s 1ms/step - loss: 0.4129 - accuracy: 0.8446\n",
            "Epoch 1/8\n",
            "625/625 [==============================] - 2s 2ms/step - loss: 0.5242 - accuracy: 0.7207 - val_loss: 0.3379 - val_accuracy: 0.8553\n",
            "Epoch 2/8\n",
            "625/625 [==============================] - 1s 2ms/step - loss: 0.3114 - accuracy: 0.8718 - val_loss: 0.3373 - val_accuracy: 0.8527\n",
            "Epoch 3/8\n",
            "625/625 [==============================] - 1s 2ms/step - loss: 0.2975 - accuracy: 0.8755 - val_loss: 0.3491 - val_accuracy: 0.8466\n",
            "Epoch 4/8\n",
            "625/625 [==============================] - 1s 2ms/step - loss: 0.2754 - accuracy: 0.8889 - val_loss: 0.3461 - val_accuracy: 0.8492\n",
            "Epoch 5/8\n",
            "625/625 [==============================] - 1s 2ms/step - loss: 0.2423 - accuracy: 0.9019 - val_loss: 0.3708 - val_accuracy: 0.8405\n",
            "Epoch 6/8\n",
            "625/625 [==============================] - 1s 2ms/step - loss: 0.2148 - accuracy: 0.9169 - val_loss: 0.3933 - val_accuracy: 0.8385\n",
            "Epoch 7/8\n",
            "625/625 [==============================] - 1s 2ms/step - loss: 0.1784 - accuracy: 0.9317 - val_loss: 0.4141 - val_accuracy: 0.8354\n",
            "Epoch 8/8\n",
            "625/625 [==============================] - 1s 2ms/step - loss: 0.1542 - accuracy: 0.9426 - val_loss: 0.4664 - val_accuracy: 0.8330\n",
            "157/157 [==============================] - 0s 1ms/step - loss: 0.4714 - accuracy: 0.8318\n",
            "Epoch 1/8\n",
            "625/625 [==============================] - 2s 2ms/step - loss: 0.4949 - accuracy: 0.7461 - val_loss: 0.3390 - val_accuracy: 0.8518\n",
            "Epoch 2/8\n",
            "625/625 [==============================] - 1s 2ms/step - loss: 0.3017 - accuracy: 0.8712 - val_loss: 0.3328 - val_accuracy: 0.8514\n",
            "Epoch 3/8\n",
            "625/625 [==============================] - 1s 2ms/step - loss: 0.2845 - accuracy: 0.8784 - val_loss: 0.3406 - val_accuracy: 0.8514\n",
            "Epoch 4/8\n",
            "625/625 [==============================] - 1s 2ms/step - loss: 0.2667 - accuracy: 0.8870 - val_loss: 0.3414 - val_accuracy: 0.8501\n",
            "Epoch 5/8\n",
            "625/625 [==============================] - 1s 2ms/step - loss: 0.2396 - accuracy: 0.8984 - val_loss: 0.3572 - val_accuracy: 0.8451\n",
            "Epoch 6/8\n",
            "625/625 [==============================] - 1s 2ms/step - loss: 0.2199 - accuracy: 0.9085 - val_loss: 0.3858 - val_accuracy: 0.8399\n",
            "Epoch 7/8\n",
            "625/625 [==============================] - 1s 2ms/step - loss: 0.1936 - accuracy: 0.9215 - val_loss: 0.4051 - val_accuracy: 0.8404\n",
            "Epoch 8/8\n",
            "625/625 [==============================] - 1s 2ms/step - loss: 0.1678 - accuracy: 0.9328 - val_loss: 0.4365 - val_accuracy: 0.8364\n",
            "157/157 [==============================] - 0s 962us/step - loss: 0.4269 - accuracy: 0.8466\n",
            "Epoch 1/8\n",
            "625/625 [==============================] - 2s 2ms/step - loss: 0.4917 - accuracy: 0.7529 - val_loss: 0.3530 - val_accuracy: 0.8480\n",
            "Epoch 2/8\n",
            "625/625 [==============================] - 1s 2ms/step - loss: 0.3194 - accuracy: 0.8667 - val_loss: 0.3391 - val_accuracy: 0.8515\n",
            "Epoch 3/8\n",
            "625/625 [==============================] - 1s 2ms/step - loss: 0.2991 - accuracy: 0.8714 - val_loss: 0.3438 - val_accuracy: 0.8483\n",
            "Epoch 4/8\n",
            "625/625 [==============================] - 1s 2ms/step - loss: 0.2844 - accuracy: 0.8787 - val_loss: 0.3406 - val_accuracy: 0.8518\n",
            "Epoch 5/8\n",
            "625/625 [==============================] - 1s 2ms/step - loss: 0.2581 - accuracy: 0.8895 - val_loss: 0.3464 - val_accuracy: 0.8470\n",
            "Epoch 6/8\n",
            "625/625 [==============================] - 1s 2ms/step - loss: 0.2364 - accuracy: 0.9011 - val_loss: 0.3645 - val_accuracy: 0.8447\n",
            "Epoch 7/8\n",
            "625/625 [==============================] - 1s 2ms/step - loss: 0.2137 - accuracy: 0.9142 - val_loss: 0.3844 - val_accuracy: 0.8426\n",
            "Epoch 8/8\n",
            "625/625 [==============================] - 1s 2ms/step - loss: 0.1969 - accuracy: 0.9234 - val_loss: 0.4104 - val_accuracy: 0.8373\n",
            "157/157 [==============================] - 0s 1ms/step - loss: 0.3898 - accuracy: 0.8488\n",
            "Epoch 1/8\n",
            "625/625 [==============================] - 2s 2ms/step - loss: 0.6693 - accuracy: 0.5745 - val_loss: 0.5244 - val_accuracy: 0.7797\n",
            "Epoch 2/8\n",
            "625/625 [==============================] - 1s 2ms/step - loss: 0.4723 - accuracy: 0.8101 - val_loss: 0.4117 - val_accuracy: 0.8301\n",
            "Epoch 3/8\n",
            "625/625 [==============================] - 1s 2ms/step - loss: 0.3811 - accuracy: 0.8489 - val_loss: 0.3711 - val_accuracy: 0.8434\n",
            "Epoch 4/8\n",
            "625/625 [==============================] - 1s 2ms/step - loss: 0.3415 - accuracy: 0.8613 - val_loss: 0.3540 - val_accuracy: 0.8497\n",
            "Epoch 5/8\n",
            "625/625 [==============================] - 1s 2ms/step - loss: 0.3178 - accuracy: 0.8690 - val_loss: 0.3468 - val_accuracy: 0.8530\n",
            "Epoch 6/8\n",
            "625/625 [==============================] - 1s 2ms/step - loss: 0.3132 - accuracy: 0.8707 - val_loss: 0.3430 - val_accuracy: 0.8554\n",
            "Epoch 7/8\n",
            "625/625 [==============================] - 1s 2ms/step - loss: 0.3085 - accuracy: 0.8730 - val_loss: 0.3437 - val_accuracy: 0.8531\n",
            "Epoch 8/8\n",
            "625/625 [==============================] - 1s 2ms/step - loss: 0.2982 - accuracy: 0.8778 - val_loss: 0.3403 - val_accuracy: 0.8553\n",
            "157/157 [==============================] - 0s 1ms/step - loss: 0.3367 - accuracy: 0.8598\n",
            "Epoch 1/8\n",
            "625/625 [==============================] - 2s 2ms/step - loss: 0.6731 - accuracy: 0.5776 - val_loss: 0.5632 - val_accuracy: 0.7602\n",
            "Epoch 2/8\n",
            "625/625 [==============================] - 1s 2ms/step - loss: 0.5171 - accuracy: 0.7882 - val_loss: 0.4349 - val_accuracy: 0.8257\n",
            "Epoch 3/8\n",
            "625/625 [==============================] - 1s 2ms/step - loss: 0.4090 - accuracy: 0.8411 - val_loss: 0.3791 - val_accuracy: 0.8426\n",
            "Epoch 4/8\n",
            "625/625 [==============================] - 1s 2ms/step - loss: 0.3553 - accuracy: 0.8558 - val_loss: 0.3555 - val_accuracy: 0.8507\n",
            "Epoch 5/8\n",
            "625/625 [==============================] - 1s 2ms/step - loss: 0.3247 - accuracy: 0.8692 - val_loss: 0.3451 - val_accuracy: 0.8549\n",
            "Epoch 6/8\n",
            "625/625 [==============================] - 1s 2ms/step - loss: 0.3173 - accuracy: 0.8716 - val_loss: 0.3400 - val_accuracy: 0.8577\n",
            "Epoch 7/8\n",
            "625/625 [==============================] - 1s 2ms/step - loss: 0.3133 - accuracy: 0.8732 - val_loss: 0.3389 - val_accuracy: 0.8550\n",
            "Epoch 8/8\n",
            "625/625 [==============================] - 1s 2ms/step - loss: 0.3052 - accuracy: 0.8765 - val_loss: 0.3366 - val_accuracy: 0.8581\n",
            "157/157 [==============================] - 0s 1ms/step - loss: 0.3250 - accuracy: 0.8618\n",
            "Epoch 1/8\n",
            "625/625 [==============================] - 2s 2ms/step - loss: 0.6828 - accuracy: 0.5548 - val_loss: 0.5866 - val_accuracy: 0.7481\n",
            "Epoch 2/8\n",
            "625/625 [==============================] - 1s 2ms/step - loss: 0.5386 - accuracy: 0.7885 - val_loss: 0.4545 - val_accuracy: 0.8202\n",
            "Epoch 3/8\n",
            "625/625 [==============================] - 1s 2ms/step - loss: 0.4264 - accuracy: 0.8327 - val_loss: 0.3925 - val_accuracy: 0.8403\n",
            "Epoch 4/8\n",
            "625/625 [==============================] - 1s 2ms/step - loss: 0.3650 - accuracy: 0.8541 - val_loss: 0.3642 - val_accuracy: 0.8484\n",
            "Epoch 5/8\n",
            "625/625 [==============================] - 1s 2ms/step - loss: 0.3375 - accuracy: 0.8644 - val_loss: 0.3496 - val_accuracy: 0.8507\n",
            "Epoch 6/8\n",
            "625/625 [==============================] - 1s 2ms/step - loss: 0.3235 - accuracy: 0.8658 - val_loss: 0.3421 - val_accuracy: 0.8542\n",
            "Epoch 7/8\n",
            "625/625 [==============================] - 1s 2ms/step - loss: 0.3136 - accuracy: 0.8719 - val_loss: 0.3382 - val_accuracy: 0.8546\n",
            "Epoch 8/8\n",
            "625/625 [==============================] - 1s 2ms/step - loss: 0.3043 - accuracy: 0.8735 - val_loss: 0.3374 - val_accuracy: 0.8547\n",
            "157/157 [==============================] - 0s 980us/step - loss: 0.3400 - accuracy: 0.8546\n",
            "Epoch 1/8\n",
            "625/625 [==============================] - 2s 2ms/step - loss: 0.6736 - accuracy: 0.5804 - val_loss: 0.5534 - val_accuracy: 0.7595\n",
            "Epoch 2/8\n",
            "625/625 [==============================] - 1s 2ms/step - loss: 0.4966 - accuracy: 0.7955 - val_loss: 0.4227 - val_accuracy: 0.8228\n",
            "Epoch 3/8\n",
            "625/625 [==============================] - 1s 2ms/step - loss: 0.3920 - accuracy: 0.8385 - val_loss: 0.3745 - val_accuracy: 0.8424\n",
            "Epoch 4/8\n",
            "625/625 [==============================] - 1s 2ms/step - loss: 0.3475 - accuracy: 0.8563 - val_loss: 0.3549 - val_accuracy: 0.8501\n",
            "Epoch 5/8\n",
            "625/625 [==============================] - 1s 2ms/step - loss: 0.3205 - accuracy: 0.8685 - val_loss: 0.3457 - val_accuracy: 0.8527\n",
            "Epoch 6/8\n",
            "625/625 [==============================] - 1s 2ms/step - loss: 0.3141 - accuracy: 0.8722 - val_loss: 0.3410 - val_accuracy: 0.8550\n",
            "Epoch 7/8\n",
            "625/625 [==============================] - 1s 2ms/step - loss: 0.3034 - accuracy: 0.8735 - val_loss: 0.3402 - val_accuracy: 0.8542\n",
            "Epoch 8/8\n",
            "625/625 [==============================] - 1s 2ms/step - loss: 0.3006 - accuracy: 0.8744 - val_loss: 0.3399 - val_accuracy: 0.8545\n",
            "157/157 [==============================] - 0s 1ms/step - loss: 0.3358 - accuracy: 0.8626\n",
            "Epoch 1/8\n",
            "625/625 [==============================] - 2s 2ms/step - loss: 0.6672 - accuracy: 0.5940 - val_loss: 0.5213 - val_accuracy: 0.7674\n",
            "Epoch 2/8\n",
            "625/625 [==============================] - 1s 2ms/step - loss: 0.4674 - accuracy: 0.8097 - val_loss: 0.3981 - val_accuracy: 0.8322\n",
            "Epoch 3/8\n",
            "625/625 [==============================] - 1s 2ms/step - loss: 0.3746 - accuracy: 0.8444 - val_loss: 0.3612 - val_accuracy: 0.8474\n",
            "Epoch 4/8\n",
            "625/625 [==============================] - 1s 2ms/step - loss: 0.3381 - accuracy: 0.8593 - val_loss: 0.3464 - val_accuracy: 0.8531\n",
            "Epoch 5/8\n",
            "625/625 [==============================] - 1s 2ms/step - loss: 0.3211 - accuracy: 0.8658 - val_loss: 0.3403 - val_accuracy: 0.8551\n",
            "Epoch 6/8\n",
            "625/625 [==============================] - 1s 2ms/step - loss: 0.3084 - accuracy: 0.8705 - val_loss: 0.3376 - val_accuracy: 0.8566\n",
            "Epoch 7/8\n",
            "625/625 [==============================] - 1s 2ms/step - loss: 0.3055 - accuracy: 0.8721 - val_loss: 0.3373 - val_accuracy: 0.8560\n",
            "Epoch 8/8\n",
            "625/625 [==============================] - 1s 2ms/step - loss: 0.3064 - accuracy: 0.8714 - val_loss: 0.3370 - val_accuracy: 0.8553\n",
            "157/157 [==============================] - 0s 1ms/step - loss: 0.3286 - accuracy: 0.8636\n",
            "Epoch 1/8\n",
            "625/625 [==============================] - 2s 2ms/step - loss: 0.6806 - accuracy: 0.5587 - val_loss: 0.5543 - val_accuracy: 0.7733\n",
            "Epoch 2/8\n",
            "625/625 [==============================] - 1s 2ms/step - loss: 0.4911 - accuracy: 0.8143 - val_loss: 0.4069 - val_accuracy: 0.8330\n",
            "Epoch 3/8\n",
            "625/625 [==============================] - 1s 2ms/step - loss: 0.3744 - accuracy: 0.8562 - val_loss: 0.3649 - val_accuracy: 0.8453\n",
            "Epoch 4/8\n",
            "625/625 [==============================] - 1s 2ms/step - loss: 0.3343 - accuracy: 0.8645 - val_loss: 0.3496 - val_accuracy: 0.8523\n",
            "Epoch 5/8\n",
            "625/625 [==============================] - 1s 2ms/step - loss: 0.3100 - accuracy: 0.8716 - val_loss: 0.3434 - val_accuracy: 0.8549\n",
            "Epoch 6/8\n",
            "625/625 [==============================] - 1s 2ms/step - loss: 0.3076 - accuracy: 0.8737 - val_loss: 0.3417 - val_accuracy: 0.8560\n",
            "Epoch 7/8\n",
            "625/625 [==============================] - 1s 2ms/step - loss: 0.3022 - accuracy: 0.8734 - val_loss: 0.3423 - val_accuracy: 0.8522\n",
            "Epoch 8/8\n",
            "625/625 [==============================] - 1s 2ms/step - loss: 0.2949 - accuracy: 0.8791 - val_loss: 0.3398 - val_accuracy: 0.8550\n",
            "157/157 [==============================] - 0s 1ms/step - loss: 0.3376 - accuracy: 0.8604\n",
            "Epoch 1/8\n",
            "625/625 [==============================] - 2s 2ms/step - loss: 0.6763 - accuracy: 0.5584 - val_loss: 0.5671 - val_accuracy: 0.7635\n",
            "Epoch 2/8\n",
            "625/625 [==============================] - 1s 2ms/step - loss: 0.5148 - accuracy: 0.7955 - val_loss: 0.4279 - val_accuracy: 0.8258\n",
            "Epoch 3/8\n",
            "625/625 [==============================] - 1s 2ms/step - loss: 0.3984 - accuracy: 0.8399 - val_loss: 0.3740 - val_accuracy: 0.8433\n",
            "Epoch 4/8\n",
            "625/625 [==============================] - 1s 2ms/step - loss: 0.3468 - accuracy: 0.8581 - val_loss: 0.3529 - val_accuracy: 0.8502\n",
            "Epoch 5/8\n",
            "625/625 [==============================] - 1s 2ms/step - loss: 0.3201 - accuracy: 0.8719 - val_loss: 0.3437 - val_accuracy: 0.8539\n",
            "Epoch 6/8\n",
            "625/625 [==============================] - 1s 2ms/step - loss: 0.3139 - accuracy: 0.8708 - val_loss: 0.3395 - val_accuracy: 0.8562\n",
            "Epoch 7/8\n",
            "625/625 [==============================] - 1s 2ms/step - loss: 0.3095 - accuracy: 0.8728 - val_loss: 0.3391 - val_accuracy: 0.8550\n",
            "Epoch 8/8\n",
            "625/625 [==============================] - 1s 2ms/step - loss: 0.3002 - accuracy: 0.8780 - val_loss: 0.3374 - val_accuracy: 0.8575\n",
            "157/157 [==============================] - 0s 1ms/step - loss: 0.3290 - accuracy: 0.8592\n",
            "Epoch 1/8\n",
            "625/625 [==============================] - 2s 2ms/step - loss: 0.6767 - accuracy: 0.5732 - val_loss: 0.5235 - val_accuracy: 0.7812\n",
            "Epoch 2/8\n",
            "625/625 [==============================] - 1s 2ms/step - loss: 0.4636 - accuracy: 0.8165 - val_loss: 0.3986 - val_accuracy: 0.8306\n",
            "Epoch 3/8\n",
            "625/625 [==============================] - 1s 2ms/step - loss: 0.3679 - accuracy: 0.8481 - val_loss: 0.3608 - val_accuracy: 0.8458\n",
            "Epoch 4/8\n",
            "625/625 [==============================] - 1s 2ms/step - loss: 0.3284 - accuracy: 0.8622 - val_loss: 0.3471 - val_accuracy: 0.8515\n",
            "Epoch 5/8\n",
            "625/625 [==============================] - 1s 2ms/step - loss: 0.3100 - accuracy: 0.8731 - val_loss: 0.3408 - val_accuracy: 0.8550\n",
            "Epoch 6/8\n",
            "625/625 [==============================] - 1s 2ms/step - loss: 0.3081 - accuracy: 0.8701 - val_loss: 0.3380 - val_accuracy: 0.8564\n",
            "Epoch 7/8\n",
            "625/625 [==============================] - 1s 2ms/step - loss: 0.3004 - accuracy: 0.8781 - val_loss: 0.3370 - val_accuracy: 0.8567\n",
            "Epoch 8/8\n",
            "625/625 [==============================] - 1s 2ms/step - loss: 0.2981 - accuracy: 0.8744 - val_loss: 0.3386 - val_accuracy: 0.8541\n",
            "157/157 [==============================] - 0s 1ms/step - loss: 0.3413 - accuracy: 0.8540\n",
            "Epoch 1/8\n",
            "625/625 [==============================] - 2s 2ms/step - loss: 0.6698 - accuracy: 0.5954 - val_loss: 0.5378 - val_accuracy: 0.7791\n",
            "Epoch 2/8\n",
            "625/625 [==============================] - 1s 2ms/step - loss: 0.4837 - accuracy: 0.8095 - val_loss: 0.4111 - val_accuracy: 0.8307\n",
            "Epoch 3/8\n",
            "625/625 [==============================] - 1s 2ms/step - loss: 0.3812 - accuracy: 0.8461 - val_loss: 0.3650 - val_accuracy: 0.8454\n",
            "Epoch 4/8\n",
            "625/625 [==============================] - 1s 2ms/step - loss: 0.3397 - accuracy: 0.8617 - val_loss: 0.3479 - val_accuracy: 0.8517\n",
            "Epoch 5/8\n",
            "625/625 [==============================] - 1s 2ms/step - loss: 0.3146 - accuracy: 0.8701 - val_loss: 0.3409 - val_accuracy: 0.8534\n",
            "Epoch 6/8\n",
            "625/625 [==============================] - 1s 2ms/step - loss: 0.3087 - accuracy: 0.8737 - val_loss: 0.3381 - val_accuracy: 0.8556\n",
            "Epoch 7/8\n",
            "625/625 [==============================] - 1s 2ms/step - loss: 0.3010 - accuracy: 0.8758 - val_loss: 0.3388 - val_accuracy: 0.8558\n",
            "Epoch 8/8\n",
            "625/625 [==============================] - 1s 2ms/step - loss: 0.3007 - accuracy: 0.8746 - val_loss: 0.3380 - val_accuracy: 0.8562\n",
            "157/157 [==============================] - 0s 1ms/step - loss: 0.3348 - accuracy: 0.8598\n",
            "Epoch 1/8\n",
            "625/625 [==============================] - 2s 2ms/step - loss: 0.6830 - accuracy: 0.5625 - val_loss: 0.5769 - val_accuracy: 0.7550\n",
            "Epoch 2/8\n",
            "625/625 [==============================] - 1s 2ms/step - loss: 0.5228 - accuracy: 0.7904 - val_loss: 0.4292 - val_accuracy: 0.8251\n",
            "Epoch 3/8\n",
            "625/625 [==============================] - 1s 2ms/step - loss: 0.4001 - accuracy: 0.8403 - val_loss: 0.3736 - val_accuracy: 0.8449\n",
            "Epoch 4/8\n",
            "625/625 [==============================] - 1s 2ms/step - loss: 0.3484 - accuracy: 0.8548 - val_loss: 0.3518 - val_accuracy: 0.8518\n",
            "Epoch 5/8\n",
            "625/625 [==============================] - 1s 2ms/step - loss: 0.3226 - accuracy: 0.8686 - val_loss: 0.3433 - val_accuracy: 0.8554\n",
            "Epoch 6/8\n",
            "625/625 [==============================] - 1s 2ms/step - loss: 0.3126 - accuracy: 0.8725 - val_loss: 0.3387 - val_accuracy: 0.8569\n",
            "Epoch 7/8\n",
            "625/625 [==============================] - 1s 2ms/step - loss: 0.3041 - accuracy: 0.8756 - val_loss: 0.3379 - val_accuracy: 0.8561\n",
            "Epoch 8/8\n",
            "625/625 [==============================] - 1s 2ms/step - loss: 0.3057 - accuracy: 0.8727 - val_loss: 0.3374 - val_accuracy: 0.8569\n",
            "157/157 [==============================] - 0s 1ms/step - loss: 0.3303 - accuracy: 0.8610\n",
            "Epoch 1/8\n",
            "782/782 [==============================] - 2s 2ms/step - loss: 0.6789 - accuracy: 0.5569 - val_loss: 0.5565 - val_accuracy: 0.7784\n",
            "Epoch 2/8\n",
            "782/782 [==============================] - 1s 2ms/step - loss: 0.5001 - accuracy: 0.8042 - val_loss: 0.4112 - val_accuracy: 0.8302\n",
            "Epoch 3/8\n",
            "782/782 [==============================] - 2s 2ms/step - loss: 0.3752 - accuracy: 0.8508 - val_loss: 0.3670 - val_accuracy: 0.8470\n",
            "Epoch 4/8\n",
            "782/782 [==============================] - 2s 2ms/step - loss: 0.3409 - accuracy: 0.8601 - val_loss: 0.3486 - val_accuracy: 0.8537\n",
            "Epoch 5/8\n",
            "782/782 [==============================] - 2s 2ms/step - loss: 0.3200 - accuracy: 0.8695 - val_loss: 0.3422 - val_accuracy: 0.8573\n",
            "Epoch 6/8\n",
            "782/782 [==============================] - 2s 2ms/step - loss: 0.3102 - accuracy: 0.8714 - val_loss: 0.3379 - val_accuracy: 0.8586\n",
            "Epoch 7/8\n",
            "782/782 [==============================] - 2s 2ms/step - loss: 0.3010 - accuracy: 0.8787 - val_loss: 0.3369 - val_accuracy: 0.8584\n",
            "Epoch 8/8\n",
            "782/782 [==============================] - 2s 2ms/step - loss: 0.3030 - accuracy: 0.8754 - val_loss: 0.3367 - val_accuracy: 0.8591\n"
          ],
          "name": "stdout"
        },
        {
          "output_type": "execute_result",
          "data": {
            "text/plain": [
              "GridSearchCV(cv=None, error_score=nan,\n",
              "             estimator=<tensorflow.python.keras.wrappers.scikit_learn.KerasRegressor object at 0x7ff584ccb050>,\n",
              "             iid='deprecated', n_jobs=None,\n",
              "             param_grid={'learning_rate': [0.01, 0.001, 0.0001],\n",
              "                         'n_units': [12, 16]},\n",
              "             pre_dispatch='2*n_jobs', refit=True, return_train_score=False,\n",
              "             scoring=None, verbose=0)"
            ]
          },
          "metadata": {
            "tags": []
          },
          "execution_count": 68
        }
      ]
    },
    {
      "cell_type": "markdown",
      "metadata": {
        "id": "aadmkiOoyM94"
      },
      "source": [
        "Print the best hyper-parameters, and evealuate the best model on the test set."
      ]
    },
    {
      "cell_type": "code",
      "metadata": {
        "id": "b0nL5OZkylNX",
        "colab": {
          "base_uri": "https://localhost:8080/"
        },
        "outputId": "427e92d1-1ea8-4090-f09b-bcd860253732"
      },
      "source": [
        "print(grid_search.best_params_)\n",
        "\n",
        "model = grid_search.best_estimator_.model\n",
        "model.evaluate(X_test, y_test)"
      ],
      "execution_count": null,
      "outputs": [
        {
          "output_type": "stream",
          "text": [
            "{'learning_rate': 0.0001, 'n_units': 12}\n",
            "391/391 [==============================] - 0s 941us/step - loss: 0.3169 - accuracy: 0.8665\n"
          ],
          "name": "stdout"
        },
        {
          "output_type": "execute_result",
          "data": {
            "text/plain": [
              "[0.31685733795166016, 0.8664799928665161]"
            ]
          },
          "metadata": {
            "tags": []
          },
          "execution_count": 69
        }
      ]
    }
  ]
}